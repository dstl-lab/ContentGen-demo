{
 "cells": [
  {
   "cell_type": "code",
   "execution_count": null,
   "metadata": {
    "slideshow": {
     "slide_type": "skip"
    }
   },
   "outputs": [],
   "source": [
    "# Run this cell to set up packages for lecture.\n",
    "from lec06_imports import *"
   ]
  },
  {
   "cell_type": "markdown",
   "metadata": {
    "slideshow": {
     "slide_type": "slide"
    }
   },
   "source": [
    "# Lecture 6 – Data Visualization 📈\n",
    "## DSC 10, Winter 2025"
   ]
  },
  {
   "cell_type": "markdown",
   "metadata": {
    "slideshow": {
     "slide_type": "slide"
    }
   },
   "source": [
    "### Agenda\n",
    "\n",
    "- Adjusting columns.\n",
    "- Why visualize?\n",
    "- Terminology.\n",
    "- Scatter plots.\n",
    "- Line plots.\n",
    "- Bar charts."
   ]
  },
  {
   "cell_type": "markdown",
   "metadata": {
    "slideshow": {
     "slide_type": "slide"
    }
   },
   "source": [
    "### Aside: Keyboard shortcuts\n",
    "\n",
    "There are several keyboard shortcuts built into Jupyter Notebooks designed to help you save time. To see them, either click the keyboard button in the toolbar above or hit the H key on your keyboard (as long as you're not actively editing a cell).\n",
    "\n",
    "Particularly useful shortcuts:\n",
    "\n",
    "| Action | Keyboard shortcut |\n",
    "| --- | --- |\n",
    "| Run cell + jump to next cell | SHIFT + ENTER |\n",
    "| Save the notebook | CTRL/CMD + S |\n",
    "| Create new cell above/below | A/B |\n",
    "| Delete cell | DD |"
   ]
  },
  {
   "cell_type": "markdown",
   "metadata": {
    "slideshow": {
     "slide_type": "slide"
    }
   },
   "source": [
    "## Adjusting columns"
   ]
  },
  {
   "cell_type": "markdown",
   "metadata": {
    "slideshow": {
     "slide_type": "slide"
    }
   },
   "source": [
    "### `.count()` \n",
    "\n",
    "As before, we'll work with the `states` DataFrame. Notice the column names don't make sense after grouping with the `.count()` aggregation method."
   ]
  },
  {
   "cell_type": "code",
   "execution_count": null,
   "metadata": {},
   "outputs": [],
   "source": [
    "states = bpd.read_csv('data/states.csv')\n",
    "states = states.assign(Density=states.get('Population') / states.get('Land Area'))\n",
    "states = states.set_index('State')\n",
    "states"
   ]
  },
  {
   "cell_type": "code",
   "execution_count": null,
   "metadata": {},
   "outputs": [],
   "source": [
    "states.groupby('Region').count()"
   ]
  },
  {
   "cell_type": "markdown",
   "metadata": {
    "slideshow": {
     "slide_type": "slide"
    }
   },
   "source": [
    "### Adjusting columns with `.assign`, `.drop`, and `.get`"
   ]
  },
  {
   "cell_type": "markdown",
   "metadata": {
    "slideshow": {
     "slide_type": "fragment"
    }
   },
   "source": [
    "1. To rename a column, use `.assign` to create a new column containing the same values as an existing column. \n",
    "    - New columns are added on the right."
   ]
  },
  {
   "cell_type": "markdown",
   "metadata": {
    "slideshow": {
     "slide_type": "fragment"
    }
   },
   "source": [
    "2. Then use `.drop(columns=list_of_column_labels)` to drop any columns you no longer need. \n",
    "    - Alternatively, use `.get(list_of_column_labels)` to keep only certain columns. The columns will appear in the order you specify, so this is also useful for reordering columns!"
   ]
  },
  {
   "cell_type": "markdown",
   "metadata": {
    "slideshow": {
     "slide_type": "slide"
    }
   },
   "source": [
    "## Two ways to `.get`\n",
    "\n",
    "1. Getting a single column name gives a Series.\n",
    "2. Getting a `list` of column names gives a DataFrame. (Even if the list has just one element!)"
   ]
  },
  {
   "cell_type": "code",
   "execution_count": null,
   "metadata": {
    "scrolled": true
   },
   "outputs": [],
   "source": [
    "states.get('Capital City')"
   ]
  },
  {
   "cell_type": "code",
   "execution_count": null,
   "metadata": {},
   "outputs": [],
   "source": [
    "states.get(['Capital City', 'Party'])"
   ]
  },
  {
   "cell_type": "code",
   "execution_count": null,
   "metadata": {},
   "outputs": [],
   "source": [
    "states.get(['Capital City'])"
   ]
  },
  {
   "cell_type": "markdown",
   "metadata": {
    "slideshow": {
     "slide_type": "slide"
    }
   },
   "source": [
    "### Activity\n",
    "\n",
    "Change the DataFrame `states_by_region` so that it only has one column, called `'Count'`, containing the number of states in each region."
   ]
  },
  {
   "cell_type": "code",
   "execution_count": null,
   "metadata": {},
   "outputs": [],
   "source": [
    "states_by_region = states.groupby('Region').count()\n",
    "states_by_region"
   ]
  },
  {
   "cell_type": "markdown",
   "metadata": {
    "slideshow": {
     "slide_type": "slide"
    }
   },
   "source": [
    "## Why visualize?"
   ]
  },
  {
   "cell_type": "markdown",
   "metadata": {
    "slideshow": {
     "slide_type": "slide"
    }
   },
   "source": [
    "### Little Women\n",
    "\n",
    "In Lecture 1, we were able to answer questions about the plot of _Little Women_ without having to read the novel and without having to understand Python code. Some of those questions included:\n",
    "\n",
    "- Who is the main character?\n",
    "- Which pair of characters gets married at the end?\n",
    "\n",
    "We answered these questions from a data visualization alone!"
   ]
  },
  {
   "cell_type": "code",
   "execution_count": null,
   "metadata": {},
   "outputs": [],
   "source": [
    "bpd.read_csv('data/lw_counts.csv').plot(x='Chapter');"
   ]
  },
  {
   "cell_type": "markdown",
   "metadata": {
    "slideshow": {
     "slide_type": "slide"
    }
   },
   "source": [
    "### Napoleon's March\n",
    "\n",
    "> \"Probably the best statistical graphic ever drawn, this map by Charles Joseph Minard portrays the losses suffered by Napoleon's army in the Russian campaign of 1812.\" ([source](https://www.edwardtufte.com/tufte/posters))"
   ]
  },
  {
   "cell_type": "markdown",
   "metadata": {},
   "source": [
    "<center><img src=\"./images/minard.jpg\"/></center>"
   ]
  },
  {
   "cell_type": "markdown",
   "metadata": {
    "slideshow": {
     "slide_type": "slide"
    }
   },
   "source": [
    "### Why visualize?"
   ]
  },
  {
   "cell_type": "markdown",
   "metadata": {
    "slideshow": {
     "slide_type": "fragment"
    }
   },
   "source": [
    "- Computers are better than humans at crunching numbers, but humans are better at identifying visual patterns."
   ]
  },
  {
   "cell_type": "markdown",
   "metadata": {
    "slideshow": {
     "slide_type": "fragment"
    }
   },
   "source": [
    "- Visualizations allow us to understand lots of data quickly – they make it easier to spot trends and communicate our results with others."
   ]
  },
  {
   "cell_type": "markdown",
   "metadata": {
    "slideshow": {
     "slide_type": "fragment"
    }
   },
   "source": [
    "- There are many types of visualizations; in this class, we'll look at scatter plots, line plots, bar charts, and histograms, but there are many others.\n",
    "    - The right choice depends on the type of data."
   ]
  },
  {
   "cell_type": "markdown",
   "metadata": {
    "slideshow": {
     "slide_type": "slide"
    }
   },
   "source": [
    "## Terminology"
   ]
  },
  {
   "cell_type": "markdown",
   "metadata": {
    "slideshow": {
     "slide_type": "slide"
    }
   },
   "source": [
    "### Individuals and variables\n",
    "\n",
    "<center><img src='images/states-indiv-var.png' width=1000/></center>"
   ]
  },
  {
   "cell_type": "markdown",
   "metadata": {
    "slideshow": {
     "slide_type": "fragment"
    }
   },
   "source": [
    "- <span style=\"color:#6d9eeb\"><b>Individual (row)</b></span>: Person/place/thing for which data is recorded. Also called an **observation**."
   ]
  },
  {
   "cell_type": "markdown",
   "metadata": {
    "slideshow": {
     "slide_type": "fragment"
    }
   },
   "source": [
    "- <span style=\"color:#ff9900\"><b>Variable (column)</b></span>: Something that is recorded for each individual. Also called a **feature**."
   ]
  },
  {
   "cell_type": "markdown",
   "metadata": {
    "slideshow": {
     "slide_type": "slide"
    }
   },
   "source": [
    "### Types of variables\n",
    "\n",
    "There are two main types of variables:\n",
    "\n",
    "- **Numerical**: It makes sense to do arithmetic with the values.\n",
    "- **Categorical**: Values fall into categories, that may or may not have some _order_ to them."
   ]
  },
  {
   "cell_type": "markdown",
   "metadata": {
    "slideshow": {
     "slide_type": "fragment"
    }
   },
   "source": [
    "Note that here, \"variable\" does not mean a variable in Python, but rather it means a column in a DataFrame."
   ]
  },
  {
   "cell_type": "markdown",
   "metadata": {
    "slideshow": {
     "slide_type": "slide"
    }
   },
   "source": [
    "### Examples of numerical variables"
   ]
  },
  {
   "cell_type": "markdown",
   "metadata": {
    "slideshow": {
     "slide_type": "fragment"
    }
   },
   "source": [
    "- Salaries of NBA players 🏀.\n",
    "    - Individual: An NBA player.\n",
    "    - Variable: Their salary."
   ]
  },
  {
   "cell_type": "markdown",
   "metadata": {
    "slideshow": {
     "slide_type": "fragment"
    }
   },
   "source": [
    "- Company's annual profit 💰.\n",
    "    - Individual: A company.\n",
    "    - Variable: Its annual profit."
   ]
  },
  {
   "cell_type": "markdown",
   "metadata": {
    "slideshow": {
     "slide_type": "fragment"
    }
   },
   "source": [
    "- Flu shots administered per day 💉.\n",
    "    - Individual: Date.\n",
    "    - Variable: Number of flu shots administered on that date."
   ]
  },
  {
   "cell_type": "markdown",
   "metadata": {
    "slideshow": {
     "slide_type": "slide"
    }
   },
   "source": [
    "### Examples of categorical variables"
   ]
  },
  {
   "cell_type": "markdown",
   "metadata": {
    "slideshow": {
     "slide_type": "fragment"
    }
   },
   "source": [
    "- Movie genres 🎬.\n",
    "    - Individual: A movie.\n",
    "    - Variable: Its genre."
   ]
  },
  {
   "cell_type": "markdown",
   "metadata": {
    "slideshow": {
     "slide_type": "fragment"
    }
   },
   "source": [
    "- Zip codes 🏠.\n",
    "    - Individual: US resident.\n",
    "    - Variable: Zip code.\n",
    "        - Even though they look like numbers, zip codes are categorical (arithmetic doesn't make sense)."
   ]
  },
  {
   "cell_type": "markdown",
   "metadata": {
    "slideshow": {
     "slide_type": "fragment"
    }
   },
   "source": [
    "- Level of prior programming experience for students in DSC 10 🧑‍🎓.\n",
    "    - Individual: Student in DSC 10.\n",
    "    - Variable: Their level of prior programming experience, e.g. none, low, medium, or high. \n",
    "        - There is an _order_ to these categories!"
   ]
  },
  {
   "cell_type": "markdown",
   "metadata": {
    "slideshow": {
     "slide_type": "slide"
    }
   },
   "source": [
    "### Concept Check ✅ – Answer at [cc.dsc10.com](http://cc.dsc10.com) \n",
    "\n",
    "Which of these is **not** a numerical variable?\n",
    "\n",
    "A. Fuel economy in miles per gallon.\n",
    "\n",
    "B. Number of quarters at UCSD.\n",
    "\n",
    "C. College at UCSD (Sixth, Seventh, etc).\n",
    "\n",
    "D. Bank account number.\n",
    "\n",
    "E. More than one of these are not numerical variables."
   ]
  },
  {
   "cell_type": "markdown",
   "metadata": {
    "slideshow": {
     "slide_type": "slide"
    }
   },
   "source": [
    "### Types of visualizations\n",
    "\n",
    "The type of visualization we create depends on the kinds of variables we're visualizing.\n",
    "\n",
    "- **Scatter plot**: Numerical vs. numerical.\n",
    "- **Line plot**: Sequential numerical (time) vs. numerical.\n",
    "- **Bar chart**: Categorical vs. numerical.\n",
    "- **Histogram**: Numerical.\n",
    "    - Will cover next time.\n",
    "    \n",
    "We may interchange the words \"plot\", \"chart\", and \"graph\"; they all mean the same thing."
   ]
  },
  {
   "cell_type": "markdown",
   "metadata": {
    "slideshow": {
     "slide_type": "slide"
    }
   },
   "source": [
    "## Scatter plots"
   ]
  },
  {
   "cell_type": "markdown",
   "metadata": {
    "slideshow": {
     "slide_type": "slide"
    }
   },
   "source": [
    "### The data: exoplanets discovered by NASA 🪐\n",
    "\n",
    "An [exoplanet](https://exoplanets.nasa.gov/what-is-an-exoplanet/overview/) is a planet outside our solar system. NASA has discovered over 5,000 exoplanets so far in its [search for signs of life beyond Earth](https://exoplanets.nasa.gov/search-for-life/big-questions/). 👽 "
   ]
  },
  {
   "cell_type": "markdown",
   "metadata": {
    "slideshow": {
     "slide_type": "fragment"
    }
   },
   "source": [
    "|Column |Contents|\n",
    "|----------|------------|\n",
    "`'Distance'`| Distance from Earth, in light years.\n",
    "`'Magnitude'`|\t[Apparent magnitude](https://en.wikipedia.org/wiki/Apparent_magnitude#), which measures brightness in such a way that brighter objects have **lower** values.\n",
    "`'Type'`|  Categorization of planet based on its composition and size.\n",
    "`'Year'`|\tWhen the planet was discovered.\n",
    "`'Detection'`|\tThe method of detection used to discover the planet.\n",
    "`'Mass'`|\tThe ratio of the planet's mass to Earth's mass. \n",
    "`'Radius'`|  The ratio of the planet's radius to Earth's radius."
   ]
  },
  {
   "cell_type": "code",
   "execution_count": null,
   "metadata": {
    "slideshow": {
     "slide_type": "slide"
    }
   },
   "outputs": [],
   "source": [
    "exo = bpd.read_csv('data/exoplanets.csv').set_index('Name')\n",
    "exo"
   ]
  },
  {
   "cell_type": "markdown",
   "metadata": {
    "slideshow": {
     "slide_type": "slide"
    }
   },
   "source": [
    "### Scatter plots"
   ]
  },
  {
   "cell_type": "markdown",
   "metadata": {
    "slideshow": {
     "slide_type": "fragment"
    }
   },
   "source": [
    "- What is the relationship between `'Distance'` and `'Magnitude'`?"
   ]
  },
  {
   "cell_type": "code",
   "execution_count": null,
   "metadata": {},
   "outputs": [],
   "source": [
    "exo.plot(kind='scatter', x='Distance', y='Magnitude');"
   ]
  },
  {
   "cell_type": "markdown",
   "metadata": {
    "slideshow": {
     "slide_type": "fragment"
    }
   },
   "source": [
    "- Further planets have greater `'Magnitude'` (meaning they are less bright), which makes sense.\n",
    "\n",
    "- The data appears curved because `'Magnitude'` is measured on a logarithmic scale. A decrease of one unit in `'Magnitude'` corresponds to a 2.5 times increase in brightness."
   ]
  },
  {
   "cell_type": "markdown",
   "metadata": {},
   "source": [
    "<center><img src='images/magnitude.png' width=600></center>"
   ]
  },
  {
   "cell_type": "markdown",
   "metadata": {
    "slideshow": {
     "slide_type": "slide"
    }
   },
   "source": [
    "### Scatter plots\n",
    "\n",
    "- Scatter plots visualize the relationship between two numerical variables.\n",
    "- To create one from a DataFrame `df`, use\n",
    "```py\n",
    "df.plot(\n",
    "    kind='scatter', \n",
    "    x=x_column_for_horizontal, \n",
    "    y=y_column_for_vertical\n",
    ")\n",
    "```\n",
    "- The resulting scatter plot has one point per row of `df`.\n",
    "- If you put a semicolon after a call to `.plot`, it will hide the weird text output that displays."
   ]
  },
  {
   "cell_type": "markdown",
   "metadata": {
    "slideshow": {
     "slide_type": "slide"
    }
   },
   "source": [
    "### Zooming in 🔍\n",
    "\n",
    "The majority of exoplanets are less than 10,000 light years away; if we'd like to zoom in on just these exoplanets, we can query before plotting."
   ]
  },
  {
   "cell_type": "code",
   "execution_count": null,
   "metadata": {},
   "outputs": [],
   "source": [
    "exo[exo.get('Distance') < 10000].plot(kind='scatter', x='Distance', y='Magnitude');"
   ]
  },
  {
   "cell_type": "markdown",
   "metadata": {
    "slideshow": {
     "slide_type": "slide"
    }
   },
   "source": [
    "## Line plots 📉"
   ]
  },
  {
   "cell_type": "markdown",
   "metadata": {
    "slideshow": {
     "slide_type": "slide"
    }
   },
   "source": [
    "### Line plots"
   ]
  },
  {
   "cell_type": "markdown",
   "metadata": {
    "slideshow": {
     "slide_type": "fragment"
    }
   },
   "source": [
    "- How has the `'Magnitude'` of newly discovered exoplanets changed over time?"
   ]
  },
  {
   "cell_type": "code",
   "execution_count": null,
   "metadata": {},
   "outputs": [],
   "source": [
    "# There were multiple exoplanets discovered each year.\n",
    "# What operation can we apply to this DataFrame so that there is one row per year?\n",
    "exo"
   ]
  },
  {
   "cell_type": "markdown",
   "metadata": {
    "slideshow": {
     "slide_type": "fragment"
    }
   },
   "source": [
    "- Let's calculate the average `'Magnitude'` of all exoplanets discovered in each `'Year'`."
   ]
  },
  {
   "cell_type": "code",
   "execution_count": null,
   "metadata": {},
   "outputs": [],
   "source": [
    "exo.groupby('Year').mean()"
   ]
  },
  {
   "cell_type": "code",
   "execution_count": null,
   "metadata": {},
   "outputs": [],
   "source": [
    "exo.groupby('Year').mean().plot(kind='line', y='Magnitude');"
   ]
  },
  {
   "cell_type": "markdown",
   "metadata": {
    "slideshow": {
     "slide_type": "fragment"
    }
   },
   "source": [
    "- It looks like the brightest planets were discovered first, which makes sense. \n",
    "\n",
    "- NASA's Kepler space telescope began its nine-year mission in 2009, leading to a boom in the discovery of exoplanets."
   ]
  },
  {
   "cell_type": "markdown",
   "metadata": {
    "slideshow": {
     "slide_type": "slide"
    }
   },
   "source": [
    "### Line plots\n",
    "\n",
    "- Line plots show trends in numerical variables over time.\n",
    "- To create one from a DataFrame `df`, use\n",
    "```py\n",
    "df.plot(\n",
    "    kind='line', \n",
    "    x=x_column_for_horizontal, \n",
    "    y=y_column_for_vertical\n",
    ")\n",
    "```\n",
    "- To use the index as the x-axis, omit the `x=` argument.\n",
    "    - This doesn't work for scatterplots, but it works for most other plot types."
   ]
  },
  {
   "cell_type": "markdown",
   "metadata": {
    "slideshow": {
     "slide_type": "slide"
    }
   },
   "source": [
    "### Extra video on line plots\n",
    "\n",
    "If you're curious how line plots work under the hood, watch [this video](https://www.youtube.com/watch?v=glzZ04D1kDg) we made a few quarters ago."
   ]
  },
  {
   "cell_type": "code",
   "execution_count": null,
   "metadata": {},
   "outputs": [],
   "source": [
    "YouTubeVideo('glzZ04D1kDg')"
   ]
  },
  {
   "cell_type": "markdown",
   "metadata": {
    "slideshow": {
     "slide_type": "slide"
    }
   },
   "source": [
    "## Bar charts 📊"
   ]
  },
  {
   "cell_type": "markdown",
   "metadata": {
    "slideshow": {
     "slide_type": "slide"
    }
   },
   "source": [
    "### Bar charts"
   ]
  },
  {
   "cell_type": "markdown",
   "metadata": {
    "slideshow": {
     "slide_type": "fragment"
    }
   },
   "source": [
    "- How big are each of the different `'Type'`s of exoplanets, on average?"
   ]
  },
  {
   "cell_type": "code",
   "execution_count": null,
   "metadata": {
    "scrolled": true
   },
   "outputs": [],
   "source": [
    "types = exo.groupby('Type').mean()\n",
    "types"
   ]
  },
  {
   "cell_type": "code",
   "execution_count": null,
   "metadata": {},
   "outputs": [],
   "source": [
    "types.plot(kind='barh', y='Radius');"
   ]
  },
  {
   "cell_type": "code",
   "execution_count": null,
   "metadata": {},
   "outputs": [],
   "source": [
    "types.plot(kind='barh', y='Mass');"
   ]
  },
  {
   "cell_type": "markdown",
   "metadata": {
    "slideshow": {
     "slide_type": "fragment"
    }
   },
   "source": [
    "- It looks like the `'Gas Giant'`s are aptly named! "
   ]
  },
  {
   "cell_type": "markdown",
   "metadata": {},
   "source": [
    "<center><img src='images/exoplanet_types.jpeg' width=800></center>"
   ]
  },
  {
   "cell_type": "markdown",
   "metadata": {
    "slideshow": {
     "slide_type": "slide"
    }
   },
   "source": [
    "### Bar charts\n",
    "\n",
    "- Bar charts visualize the relationship between a categorical variable and a numerical variable.\n",
    "- In a bar chart...\n",
    "    - The thickness and spacing of bars is arbitrary.\n",
    "    - The order of the categorical labels doesn't matter.\n",
    "- To create one from a DataFrame `df`, use\n",
    "```py\n",
    "df.plot(\n",
    "    kind='barh', \n",
    "    x=categorical_column_name, \n",
    "    y=numerical_column_name\n",
    ")\n",
    "```\n",
    "- The **\"h\"** in `'barh'` stands for **\"horizontal\"**.\n",
    "    - It's easier to read labels this way.\n",
    "- Note that in the previous chart, we set `y='Mass'` even though mass is measured by x-axis length."
   ]
  },
  {
   "cell_type": "markdown",
   "metadata": {
    "slideshow": {
     "slide_type": "slide"
    }
   },
   "source": [
    "### Bar charts and sorting\n",
    "\n",
    "What are the most popular `'Detection'` methods for discovering exoplanets?"
   ]
  },
  {
   "cell_type": "code",
   "execution_count": null,
   "metadata": {},
   "outputs": [],
   "source": [
    "# Count how many exoplanets are discovered by each detection method.\n",
    "popular_detection = exo.groupby('Detection').count()\n",
    "popular_detection"
   ]
  },
  {
   "cell_type": "code",
   "execution_count": null,
   "metadata": {},
   "outputs": [],
   "source": [
    "# Give columns more meaningful names and eliminate redundancy.\n",
    "popular_detection = (popular_detection.assign(Count=popular_detection.get('Distance'))\n",
    "                                      .get(['Count'])\n",
    "                                      .sort_values(by='Count', ascending=False)\n",
    "                    )\n",
    "popular_detection"
   ]
  },
  {
   "cell_type": "code",
   "execution_count": null,
   "metadata": {
    "slideshow": {
     "slide_type": "-"
    }
   },
   "outputs": [],
   "source": [
    "# Notice that the bars appear in the opposite order relative to the DataFrame.\n",
    "popular_detection.plot(kind='barh', y='Count');"
   ]
  },
  {
   "cell_type": "code",
   "execution_count": null,
   "metadata": {
    "slideshow": {
     "slide_type": "-"
    }
   },
   "outputs": [],
   "source": [
    "# Change \"barh\" to \"bar\" to get a vertical bar chart. \n",
    "# These are harder to read, but the bars do appear in the same order as the DataFrame.\n",
    "popular_detection.plot(kind='bar', y='Count');"
   ]
  },
  {
   "cell_type": "markdown",
   "metadata": {
    "slideshow": {
     "slide_type": "slide"
    }
   },
   "source": [
    "### Multiple plots on the same axes\n",
    "\n",
    "Can we look at both the average `'Magnitude'` and the average `'Radius'` for each `'Type'` at the same time?"
   ]
  },
  {
   "cell_type": "code",
   "execution_count": null,
   "metadata": {},
   "outputs": [],
   "source": [
    "types.get(['Magnitude', 'Radius']).plot(kind='barh');"
   ]
  },
  {
   "cell_type": "markdown",
   "metadata": {
    "slideshow": {
     "slide_type": "fragment"
    }
   },
   "source": [
    "How did we do that?"
   ]
  },
  {
   "cell_type": "markdown",
   "metadata": {
    "slideshow": {
     "slide_type": "slide"
    }
   },
   "source": [
    "### Overlaying plots\n",
    "\n",
    "When calling `.plot`, if we omit the `y=column_name` argument, **all other columns** are plotted."
   ]
  },
  {
   "cell_type": "code",
   "execution_count": null,
   "metadata": {},
   "outputs": [],
   "source": [
    "types"
   ]
  },
  {
   "cell_type": "code",
   "execution_count": null,
   "metadata": {},
   "outputs": [],
   "source": [
    "types.plot(kind='barh');"
   ]
  },
  {
   "cell_type": "markdown",
   "metadata": {
    "slideshow": {
     "slide_type": "slide"
    }
   },
   "source": [
    "### Selecting multiple columns at once\n",
    "\n",
    "Remember, to select multiple columns, use `.get([column_1, ..., column_k])`. This returns a DataFrame."
   ]
  },
  {
   "cell_type": "code",
   "execution_count": null,
   "metadata": {},
   "outputs": [],
   "source": [
    "types"
   ]
  },
  {
   "cell_type": "code",
   "execution_count": null,
   "metadata": {},
   "outputs": [],
   "source": [
    "types.get(['Magnitude', 'Radius'])"
   ]
  },
  {
   "cell_type": "code",
   "execution_count": null,
   "metadata": {},
   "outputs": [],
   "source": [
    "types.get(['Magnitude', 'Radius']).plot(kind='barh');"
   ]
  },
  {
   "cell_type": "markdown",
   "metadata": {
    "slideshow": {
     "slide_type": "slide"
    }
   },
   "source": [
    "## Summary"
   ]
  },
  {
   "cell_type": "markdown",
   "metadata": {
    "slideshow": {
     "slide_type": "slide"
    }
   },
   "source": [
    "### Summary\n",
    "\n",
    "- Visualizations make it easy to extract patterns from datasets.\n",
    "- There are two main types of variables: categorical and numerical.\n",
    "- The types of the variables we're visualizing inform our choice of which type of visualization to use.\n",
    "- Today, we looked at scatter plots, line plots, and bar charts.\n",
    "- **Next time**: histograms."
   ]
  }
 ],
 "metadata": {
  "kernelspec": {
   "display_name": "Python 3 (ipykernel)",
   "language": "python",
   "name": "python3"
  },
  "language_info": {
   "codemirror_mode": {
    "name": "ipython",
    "version": 3
   },
   "file_extension": ".py",
   "mimetype": "text/x-python",
   "name": "python",
   "nbconvert_exporter": "python",
   "pygments_lexer": "ipython3",
   "version": "3.12.4"
  },
  "livereveal": {
   "scroll": true,
   "transition": "none"
  },
  "rise": {
   "enable_chalkboard": true
  }
 },
 "nbformat": 4,
 "nbformat_minor": 4
}
