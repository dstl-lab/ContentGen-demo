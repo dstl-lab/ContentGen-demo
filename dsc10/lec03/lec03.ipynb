{
 "cells": [
  {
   "cell_type": "markdown",
   "metadata": {
    "slideshow": {
     "slide_type": "slide"
    }
   },
   "source": [
    "# Lecture 3 – Lists and Arrays\n",
    "## DSC 10, Winter 2025"
   ]
  },
  {
   "cell_type": "markdown",
   "metadata": {
    "slideshow": {
     "slide_type": "slide"
    }
   },
   "source": [
    "### Resources 🤝\n",
    "\n",
    "- We're covering **a lot** of content very quickly. If you're overwhelmed, just know that we're here to support you! \n",
    "    - [Ed](https://edstem.org/us/courses/70673/discussion) and [office hours](https://dsc10.com/calendar/) are your friends! \n",
    "- Check the [Resources tab of the course website](https://dsc10.com/resources/) for programming resources."
   ]
  },
  {
   "cell_type": "markdown",
   "metadata": {
    "slideshow": {
     "slide_type": "slide"
    }
   },
   "source": [
    "### Agenda\n",
    "\n",
    "- Recap: strings.\n",
    "- Means and medians. \n",
    "- Lists.\n",
    "- Arrays.\n",
    "- Ranges."
   ]
  },
  {
   "cell_type": "markdown",
   "metadata": {
    "slideshow": {
     "slide_type": "slide"
    }
   },
   "source": [
    "## Recap: strings 🧶"
   ]
  },
  {
   "cell_type": "markdown",
   "metadata": {
    "slideshow": {
     "slide_type": "slide"
    }
   },
   "source": [
    "### Strings 🧶\n",
    "\n",
    "- A string is a snippet of text.\n",
    "- Use single or double quotes to enclose strings.\n",
    "- Strings have special functions called **methods**, accessed using dot notation."
   ]
  },
  {
   "cell_type": "code",
   "execution_count": null,
   "metadata": {},
   "outputs": [],
   "source": [
    "'I am yelling'.upper()"
   ]
  },
  {
   "cell_type": "markdown",
   "metadata": {
    "slideshow": {
     "slide_type": "slide"
    }
   },
   "source": [
    "### Type conversion to and from strings\n",
    "\n",
    "- The functions `str`, `int`, and `float` convert their inputs to strings, `int`s, and `float`s, respectively.\n",
    "- **Any** value can be converted to a string. Only **some** values can be converted to an `int` or `float`."
   ]
  },
  {
   "cell_type": "code",
   "execution_count": null,
   "metadata": {},
   "outputs": [],
   "source": [
    "str(3)"
   ]
  },
  {
   "cell_type": "code",
   "execution_count": null,
   "metadata": {},
   "outputs": [],
   "source": [
    "float('3')"
   ]
  },
  {
   "cell_type": "code",
   "execution_count": null,
   "metadata": {},
   "outputs": [],
   "source": [
    "int('4')"
   ]
  },
  {
   "cell_type": "code",
   "execution_count": null,
   "metadata": {},
   "outputs": [],
   "source": [
    "float('baby panda')"
   ]
  },
  {
   "cell_type": "code",
   "execution_count": null,
   "metadata": {},
   "outputs": [],
   "source": [
    "int('4.3')"
   ]
  },
  {
   "cell_type": "markdown",
   "metadata": {
    "slideshow": {
     "slide_type": "slide"
    }
   },
   "source": [
    "### Concept Check ✅ – Answer at [cc.dsc10.com](http://cc.dsc10.com) \n",
    "\n",
    "Assume you have run the following statements:\n",
    "\n",
    "```py\n",
    "x = 3\n",
    "y = '4'\n",
    "z = '5.6'\n",
    "```\n",
    "\n",
    "Choose the expression that will be evaluated **without** an error.\n",
    "\n",
    "A. `x + y`\n",
    "\n",
    "B. `x + int(y + z)`\n",
    "\n",
    "C. `str(x) + int(y)`\n",
    "\n",
    "D. `str(x) + z`\n",
    "\n",
    "E. All of them have errors"
   ]
  },
  {
   "cell_type": "code",
   "execution_count": null,
   "metadata": {},
   "outputs": [],
   "source": []
  },
  {
   "cell_type": "code",
   "execution_count": null,
   "metadata": {},
   "outputs": [],
   "source": []
  },
  {
   "cell_type": "markdown",
   "metadata": {
    "slideshow": {
     "slide_type": "slide"
    }
   },
   "source": [
    "## Means and medians"
   ]
  },
  {
   "cell_type": "markdown",
   "metadata": {
    "slideshow": {
     "slide_type": "slide"
    }
   },
   "source": [
    "### Describing numerical data"
   ]
  },
  {
   "cell_type": "markdown",
   "metadata": {
    "slideshow": {
     "slide_type": "fragment"
    }
   },
   "source": [
    "- We now know how to store individual numbers (as `int`s or `float`s) and pieces of text (as strings). But we often we'll work with **sequences**, or ordered collections, of several data values. "
   ]
  },
  {
   "cell_type": "markdown",
   "metadata": {
    "slideshow": {
     "slide_type": "fragment"
    }
   },
   "source": [
    "- For any collection of numbers, say temperatures, it can be helpful to summarize the data by its **mean** (i.e. average) or **median**."
   ]
  },
  {
   "cell_type": "markdown",
   "metadata": {
    "slideshow": {
     "slide_type": "fragment"
    }
   },
   "source": [
    "- Both mean and median are measures of **central tendency** – that is, they tell us roughly where the \"center\" of the data falls."
   ]
  },
  {
   "cell_type": "markdown",
   "metadata": {
    "slideshow": {
     "slide_type": "slide"
    }
   },
   "source": [
    "### The mean (i.e. average)\n",
    "\n",
    "The mean is a one-number summary of a collection of numbers.\n",
    "\n",
    "For example, the mean of $1$, $4$, $7$, and $12$ is $\\frac{1 + 4 + 7 + 12}{4} = 6$.\n",
    "\n",
    "Observe that the mean:"
   ]
  },
  {
   "cell_type": "markdown",
   "metadata": {
    "slideshow": {
     "slide_type": "fragment"
    }
   },
   "source": [
    "- Doesn't have to be equal to one of the data points."
   ]
  },
  {
   "cell_type": "markdown",
   "metadata": {
    "slideshow": {
     "slide_type": "fragment"
    }
   },
   "source": [
    "- Doesn't have to be an integer, even if all of the data points are integers.\n",
    "\n"
   ]
  },
  {
   "cell_type": "markdown",
   "metadata": {
    "slideshow": {
     "slide_type": "fragment"
    }
   },
   "source": [
    "- Is somewhere between the min and max, but not necessarily halfway between."
   ]
  },
  {
   "cell_type": "markdown",
   "metadata": {
    "slideshow": {
     "slide_type": "fragment"
    }
   },
   "source": [
    "- Has the same units as the data."
   ]
  },
  {
   "cell_type": "markdown",
   "metadata": {
    "slideshow": {
     "slide_type": "slide"
    }
   },
   "source": [
    "### The median\n",
    "\n",
    "Like the mean, the median is a one-number summary of a collection of numbers. "
   ]
  },
  {
   "cell_type": "markdown",
   "metadata": {
    "slideshow": {
     "slide_type": "fragment"
    }
   },
   "source": [
    "- To calculate it, **sort the data points and pick the number in the middle**.\n",
    "    - If there are two middle numbers, we usually pick the number halfway between (i.e. the mean of the middle two)."
   ]
  },
  {
   "cell_type": "markdown",
   "metadata": {
    "slideshow": {
     "slide_type": "fragment"
    }
   },
   "source": [
    "- **Example:** \n",
    "    - $\\text{Median}(1, 4, 7, 12, 32) = 7$\n",
    "    - $\\text{Median}(1, 4, 7, 12) = 5.5$"
   ]
  },
  {
   "cell_type": "markdown",
   "metadata": {
    "slideshow": {
     "slide_type": "slide"
    }
   },
   "source": [
    "### Mean vs. median"
   ]
  },
  {
   "cell_type": "markdown",
   "metadata": {
    "slideshow": {
     "slide_type": "fragment"
    }
   },
   "source": [
    "- The mean and median of a dataset can be the same, but they don't need to be. They measure the center of a dataset in two different ways."
   ]
  },
  {
   "cell_type": "markdown",
   "metadata": {
    "slideshow": {
     "slide_type": "fragment"
    }
   },
   "source": [
    "- Two different datasets can have the same mean without having the same median, and vice versa."
   ]
  },
  {
   "cell_type": "markdown",
   "metadata": {
    "slideshow": {
     "slide_type": "slide"
    }
   },
   "source": [
    "### Activity\n",
    "\n",
    "1. Find two different datasets that have the same mean and different medians.\n",
    "\n",
    "2. Find two different datasets that have the same median and different means.\n",
    "\n",
    "3. Find two different datasets that have the same median and the same mean."
   ]
  },
  {
   "cell_type": "markdown",
   "metadata": {
    "slideshow": {
     "slide_type": "fragment"
    }
   },
   "source": [
    "Means and medians are just summaries; they don't tell the whole story about a dataset!"
   ]
  },
  {
   "cell_type": "markdown",
   "metadata": {
    "slideshow": {
     "slide_type": "slide"
    }
   },
   "source": [
    "<center><img src=\"images/histograms.png\" width=75%></center>\n",
    "\n",
    "In a few weeks, we'll learn about how to visualize the **distribution** of a collection of numbers using a **histogram**.\n",
    "\n",
    "These two distributions have different means but the same median!"
   ]
  },
  {
   "cell_type": "markdown",
   "metadata": {
    "slideshow": {
     "slide_type": "slide"
    }
   },
   "source": [
    "## Lists"
   ]
  },
  {
   "cell_type": "markdown",
   "metadata": {
    "slideshow": {
     "slide_type": "slide"
    }
   },
   "source": [
    "### Average temperature for a week\n",
    "\n",
    "How would we store the temperatures for a week to compute the average temperature?\n",
    "\n",
    "Our best solution right now is to create a separate variable for each day of the week."
   ]
  },
  {
   "cell_type": "code",
   "execution_count": null,
   "metadata": {
    "slideshow": {
     "slide_type": "fragment"
    }
   },
   "outputs": [],
   "source": [
    "temp_sunday = 68\n",
    "temp_monday = 73\n",
    "temp_tuesday = 70\n",
    "temp_wednesday = 74\n",
    "temp_thursday = 76\n",
    "temp_friday = 72\n",
    "temp_saturday = 74"
   ]
  },
  {
   "cell_type": "markdown",
   "metadata": {
    "slideshow": {
     "slide_type": "fragment"
    }
   },
   "source": [
    "This _technically_ allows us to do things like compute the average temperature:"
   ]
  },
  {
   "cell_type": "markdown",
   "metadata": {
    "slideshow": {
     "slide_type": "-"
    }
   },
   "source": [
    "```\n",
    "avg_temperature = 1/7 * (\n",
    "    temp_sunday\n",
    "    + temp_monday\n",
    "    + temp_tuesday\n",
    "    + ...)\n",
    "```"
   ]
  },
  {
   "cell_type": "markdown",
   "metadata": {},
   "source": [
    "Imagine a whole month's data, or a whole year's data. It seems like we need a better solution.\n"
   ]
  },
  {
   "cell_type": "markdown",
   "metadata": {
    "slideshow": {
     "slide_type": "slide"
    }
   },
   "source": [
    "### Lists in Python\n",
    "\n",
    "In Python, a list is used to store multiple values within a single variable. To create a new list from scratch, we use `[`square brackets`]`.\n"
   ]
  },
  {
   "cell_type": "code",
   "execution_count": null,
   "metadata": {},
   "outputs": [],
   "source": [
    "temperature_list = [68, 73, 70, 74, 76, 72, 74]"
   ]
  },
  {
   "cell_type": "code",
   "execution_count": null,
   "metadata": {},
   "outputs": [],
   "source": [
    "len(temperature_list)"
   ]
  },
  {
   "cell_type": "markdown",
   "metadata": {
    "slideshow": {
     "slide_type": "fragment"
    }
   },
   "source": [
    "Notice that the elements in a list don't need to be unique!"
   ]
  },
  {
   "cell_type": "markdown",
   "metadata": {
    "slideshow": {
     "slide_type": "slide"
    }
   },
   "source": [
    "### Lists make working with sequences easy!\n",
    "\n",
    "To find the average temperature, we just need to divide the **sum of the temperatures** by the **number of temperatures recorded**:"
   ]
  },
  {
   "cell_type": "code",
   "execution_count": null,
   "metadata": {},
   "outputs": [],
   "source": [
    "temperature_list"
   ]
  },
  {
   "cell_type": "code",
   "execution_count": null,
   "metadata": {},
   "outputs": [],
   "source": [
    "sum(temperature_list) / len(temperature_list)"
   ]
  },
  {
   "cell_type": "markdown",
   "metadata": {
    "slideshow": {
     "slide_type": "slide"
    }
   },
   "source": [
    "### Types\n",
    "\n",
    "The `type` of a list is... `list`."
   ]
  },
  {
   "cell_type": "code",
   "execution_count": null,
   "metadata": {},
   "outputs": [],
   "source": [
    "temperature_list"
   ]
  },
  {
   "cell_type": "code",
   "execution_count": null,
   "metadata": {},
   "outputs": [],
   "source": [
    "type(temperature_list)"
   ]
  },
  {
   "cell_type": "markdown",
   "metadata": {
    "slideshow": {
     "slide_type": "fragment"
    }
   },
   "source": [
    "Within a list, you can store elements of different types."
   ]
  },
  {
   "cell_type": "code",
   "execution_count": null,
   "metadata": {},
   "outputs": [],
   "source": [
    "mixed_list = [-2, 2.5, 'ucsd', [1, 3]]\n",
    "mixed_list"
   ]
  },
  {
   "cell_type": "markdown",
   "metadata": {
    "slideshow": {
     "slide_type": "slide"
    }
   },
   "source": [
    "### There's a problem...\n",
    "\n",
    "- Lists are **very slow**.\n",
    "- This is not a big deal when there aren't many entries, but it's a big problem when there are millions or billions of entries."
   ]
  },
  {
   "cell_type": "markdown",
   "metadata": {
    "slideshow": {
     "slide_type": "slide"
    }
   },
   "source": [
    "## Arrays"
   ]
  },
  {
   "cell_type": "markdown",
   "metadata": {
    "slideshow": {
     "slide_type": "slide"
    }
   },
   "source": [
    "### NumPy\n",
    "\n",
    "<center>\n",
    "<img src='images/numpy.png' width=400>\n",
    "</center>\n",
    "\n",
    "- NumPy (pronounced \"num pie\") is a Python library (module) that provides support for **arrays** and operations on them.\n",
    "\n",
    "- The `babypandas` library, which you will learn about soon, goes hand-in-hand with NumPy.\n",
    "    - NumPy is used heavily in the real world.\n",
    "\n",
    "- To use `numpy`, we need to import it. It's usually imported as `np` (but doesn't have to be!)"
   ]
  },
  {
   "cell_type": "code",
   "execution_count": null,
   "metadata": {},
   "outputs": [],
   "source": [
    "import numpy as np "
   ]
  },
  {
   "cell_type": "markdown",
   "metadata": {
    "slideshow": {
     "slide_type": "slide"
    }
   },
   "source": [
    "### Arrays\n",
    "\n",
    "Think of NumPy arrays (just \"arrays\" from now on) as fancy, faster lists.\n",
    "\n",
    "<center><img src=\"images/fast-slow.jpg\" width=35%></center>\n",
    "\n",
    "To create an array, we pass a list as input to the `np.array` function."
   ]
  },
  {
   "cell_type": "code",
   "execution_count": null,
   "metadata": {},
   "outputs": [],
   "source": [
    "np.array([4, 9, 1, 2])"
   ]
  },
  {
   "cell_type": "markdown",
   "metadata": {
    "slideshow": {
     "slide_type": "fragment"
    }
   },
   "source": [
    "<center>\n",
    "<img src='images/brackets.png' width=50%>\n",
    "</center>"
   ]
  },
  {
   "cell_type": "code",
   "execution_count": null,
   "metadata": {},
   "outputs": [],
   "source": [
    "temperature_array = np.array([68, 73, 70, 74, 76, 72, 74])\n",
    "temperature_array"
   ]
  },
  {
   "cell_type": "code",
   "execution_count": null,
   "metadata": {},
   "outputs": [],
   "source": [
    "temperature_list"
   ]
  },
  {
   "cell_type": "code",
   "execution_count": null,
   "metadata": {},
   "outputs": [],
   "source": [
    "# No square brackets, because temperature_list is already a list!\n",
    "np.array(temperature_list)"
   ]
  },
  {
   "cell_type": "markdown",
   "metadata": {
    "slideshow": {
     "slide_type": "slide"
    }
   },
   "source": [
    "### Positions\n",
    "\n",
    "When people wait in line, each person has a position.\n",
    "\n",
    "<center><img src=\"images/waiting-room.jpg\" width=30%></center>\n",
    "    \n",
    "Similarly, each element of an array (and list) has a position."
   ]
  },
  {
   "cell_type": "markdown",
   "metadata": {
    "slideshow": {
     "slide_type": "slide"
    }
   },
   "source": [
    "### Accessing elements by position"
   ]
  },
  {
   "cell_type": "markdown",
   "metadata": {
    "slideshow": {
     "slide_type": "fragment"
    }
   },
   "source": [
    "- Python, like most programming languages, is \"0-indexed.\" \n",
    "    - This means that the position of the first element in an array is 0, not 1. \n",
    "    - One interpretation is that **an element's position represents the number of elements in front of it**."
   ]
  },
  {
   "cell_type": "markdown",
   "metadata": {
    "slideshow": {
     "slide_type": "fragment"
    }
   },
   "source": [
    "- To access the element in array `arr_name` at position `pos`, we use the syntax `arr_name[pos]`."
   ]
  },
  {
   "cell_type": "code",
   "execution_count": null,
   "metadata": {
    "slideshow": {
     "slide_type": "-"
    }
   },
   "outputs": [],
   "source": [
    "temperature_array"
   ]
  },
  {
   "cell_type": "code",
   "execution_count": null,
   "metadata": {},
   "outputs": [],
   "source": [
    "# If a position is negative, count from the end!\n",
    "temperature_array[-2]"
   ]
  },
  {
   "cell_type": "markdown",
   "metadata": {
    "slideshow": {
     "slide_type": "slide"
    }
   },
   "source": [
    "### Types\n",
    "\n",
    "Earlier in the lecture, we saw that lists can store elements of multiple types."
   ]
  },
  {
   "cell_type": "code",
   "execution_count": null,
   "metadata": {},
   "outputs": [],
   "source": [
    "nums_and_strings_lst = ['uc', 'sd', 1961, 3.14]\n",
    "nums_and_strings_lst"
   ]
  },
  {
   "cell_type": "markdown",
   "metadata": {
    "slideshow": {
     "slide_type": "fragment"
    }
   },
   "source": [
    "**This is not true of arrays – all elements in an array must be of the same type.**"
   ]
  },
  {
   "cell_type": "code",
   "execution_count": null,
   "metadata": {},
   "outputs": [],
   "source": [
    "# All elements are converted to strings!\n",
    "np.array(nums_and_strings_lst)"
   ]
  },
  {
   "cell_type": "markdown",
   "metadata": {
    "slideshow": {
     "slide_type": "slide"
    }
   },
   "source": [
    "### Array-number arithmetic\n",
    "\n",
    "Arrays make it easy to perform the same operation to every element. This behavior is formally known as \"broadcasting\".\n",
    "\n",
    "<center><img src=\"images/broadcasting.jpg\" width=80%></center>\n",
    "    "
   ]
  },
  {
   "cell_type": "code",
   "execution_count": null,
   "metadata": {},
   "outputs": [],
   "source": [
    "temperature_array"
   ]
  },
  {
   "cell_type": "code",
   "execution_count": null,
   "metadata": {},
   "outputs": [],
   "source": [
    "# Increase all temperatures by 3 degrees.\n",
    "temperature_array + 3"
   ]
  },
  {
   "cell_type": "code",
   "execution_count": null,
   "metadata": {},
   "outputs": [],
   "source": [
    "# Halve all temperatures.\n",
    "temperature_array / 2"
   ]
  },
  {
   "cell_type": "code",
   "execution_count": null,
   "metadata": {},
   "outputs": [],
   "source": [
    "# Convert all temperatures to Celsius.\n",
    "(5 / 9) * (temperature_array - 32)"
   ]
  },
  {
   "cell_type": "markdown",
   "metadata": {
    "slideshow": {
     "slide_type": "fragment"
    }
   },
   "source": [
    "**Note**: In none of the above cells did we actually modify `temperature_array`! Each of those expressions created a new array."
   ]
  },
  {
   "cell_type": "code",
   "execution_count": null,
   "metadata": {},
   "outputs": [],
   "source": [
    "temperature_array"
   ]
  },
  {
   "cell_type": "markdown",
   "metadata": {},
   "source": [
    "To actually change `temperature_array`, we need to reassign it to a new array."
   ]
  },
  {
   "cell_type": "code",
   "execution_count": null,
   "metadata": {},
   "outputs": [],
   "source": [
    "temperature_array = (5 / 9) * (temperature_array - 32)"
   ]
  },
  {
   "cell_type": "code",
   "execution_count": null,
   "metadata": {},
   "outputs": [],
   "source": [
    "# Now in Celsius!\n",
    "temperature_array"
   ]
  },
  {
   "cell_type": "markdown",
   "metadata": {
    "slideshow": {
     "slide_type": "slide"
    }
   },
   "source": [
    "### Element-wise arithmetic\n",
    "\n",
    "- We can apply arithmetic operations to multiple arrays, provided they have the same length.\n",
    "- The result is computed **element-wise**, which means that the arithmetic operation is applied to one pair of elements from each array at a time.\n",
    "\n",
    "<center><img src=\"images/elementwise.jpg\" width=80%></center>"
   ]
  },
  {
   "cell_type": "code",
   "execution_count": null,
   "metadata": {},
   "outputs": [],
   "source": [
    "a = np.array([4, 5, -1])\n",
    "b = np.array([2, 3, 2])"
   ]
  },
  {
   "cell_type": "code",
   "execution_count": null,
   "metadata": {},
   "outputs": [],
   "source": [
    "a + b"
   ]
  },
  {
   "cell_type": "code",
   "execution_count": null,
   "metadata": {},
   "outputs": [],
   "source": [
    "a / b"
   ]
  },
  {
   "cell_type": "code",
   "execution_count": null,
   "metadata": {},
   "outputs": [],
   "source": [
    "a ** 2 + b ** 2"
   ]
  },
  {
   "cell_type": "markdown",
   "metadata": {
    "slideshow": {
     "slide_type": "slide"
    }
   },
   "source": [
    "### Array methods\n",
    "\n",
    "- Arrays work with a variety of **methods**, which are functions designed to operate specifically on arrays. \n",
    "\n",
    "- Call these methods using dot notation, e.g. `array_name.method()`.\n",
    "\n",
    "<center><img src=\"images/methods.jpg\" width=70%></center>"
   ]
  },
  {
   "cell_type": "code",
   "execution_count": null,
   "metadata": {},
   "outputs": [],
   "source": [
    "temperature_array.max()"
   ]
  },
  {
   "cell_type": "code",
   "execution_count": null,
   "metadata": {},
   "outputs": [],
   "source": [
    "temperature_array.mean()"
   ]
  },
  {
   "cell_type": "markdown",
   "metadata": {
    "slideshow": {
     "slide_type": "slide"
    }
   },
   "source": [
    "## Ranges"
   ]
  },
  {
   "cell_type": "markdown",
   "metadata": {
    "slideshow": {
     "slide_type": "slide"
    }
   },
   "source": [
    "### Motivation\n",
    "\n",
    "We often find ourselves needing to make arrays like this:"
   ]
  },
  {
   "cell_type": "code",
   "execution_count": null,
   "metadata": {},
   "outputs": [],
   "source": [
    "day_of_month = np.array([\n",
    "    1, 2, 3, 4, 5, 6, 7, 8, 9, 10, 11, 12, \n",
    "    13, 14, 15, 16, 17, 18, 19, 20, 21, 22, \n",
    "    23, 24, 25, 26, 27, 28, 29, 30, 31\n",
    "])"
   ]
  },
  {
   "cell_type": "markdown",
   "metadata": {
    "slideshow": {
     "slide_type": "fragment"
    }
   },
   "source": [
    "There needs to be an easier way to do this!"
   ]
  },
  {
   "cell_type": "markdown",
   "metadata": {
    "slideshow": {
     "slide_type": "slide"
    }
   },
   "source": [
    "### Ranges\n",
    "* A **range** is an array of evenly spaced numbers. We create ranges using `np.arange`.\n",
    "* The most general way to create a range is `np.arange(start, end, step)`. This returns an array such that:\n",
    "    - The first number is `start`. **By default, `start` is 0.**\n",
    "    - All subsequent numbers are spaced out by `step`, until (but excluding) `end`. **By default, `step` is 1.**"
   ]
  },
  {
   "cell_type": "code",
   "execution_count": null,
   "metadata": {},
   "outputs": [],
   "source": [
    "# Start at 0, end before 8, step by 1.\n",
    "# This will be our most common use-case!\n",
    "np.arange(8)"
   ]
  },
  {
   "cell_type": "code",
   "execution_count": null,
   "metadata": {},
   "outputs": [],
   "source": [
    "# Start at 5, end before 10, step by 1.\n",
    "np.arange(5, 10)"
   ]
  },
  {
   "cell_type": "code",
   "execution_count": null,
   "metadata": {},
   "outputs": [],
   "source": [
    "# Start at 3, end before 32, step by 5.\n",
    "np.arange(3, 32, 5)"
   ]
  },
  {
   "cell_type": "markdown",
   "metadata": {
    "slideshow": {
     "slide_type": "slide"
    }
   },
   "source": [
    "### Extra practice\n",
    "\n",
    "The step size in `np.arange` can be fractional, or even negative. Predict what arrays will be produced by each line of code below. Then copy each line into a code cell and run it to see if you're right.\n",
    "\n",
    "```\n",
    "np.arange(-3, 2, 0.5)\n",
    "\n",
    "np.arange(1, -10, -3)\n",
    "```"
   ]
  },
  {
   "cell_type": "code",
   "execution_count": null,
   "metadata": {},
   "outputs": [],
   "source": [
    "..."
   ]
  },
  {
   "cell_type": "code",
   "execution_count": null,
   "metadata": {},
   "outputs": [],
   "source": [
    "..."
   ]
  },
  {
   "cell_type": "markdown",
   "metadata": {
    "slideshow": {
     "slide_type": "slide"
    }
   },
   "source": [
    "### Challenge\n",
    "\n",
    "🎉 Congrats! 🎉 You won the lottery 💰. Here's how your payout works: on the first day of September, you are paid \\\\$0.01. Every day thereafter, your pay doubles, so on the second day you're paid \\\\$0.02, on the third day you're paid \\\\$0.04, on the fourth day you're paid \\\\$0.08, and so on.\n",
    "\n",
    "September has 30 days.\n",
    "\n",
    "Write a **one-line expression** that uses the numbers `2` and `30`, along with the function `np.arange` and the method `.sum()`, that computes the total amount **in dollars** you will be paid in September."
   ]
  },
  {
   "cell_type": "code",
   "execution_count": null,
   "metadata": {},
   "outputs": [],
   "source": [
    "..."
   ]
  },
  {
   "cell_type": "markdown",
   "metadata": {
    "slideshow": {
     "slide_type": "fragment"
    }
   },
   "source": [
    "**After** trying the challenge problem on your own, watch this walkthrough [🎥 video](https://youtu.be/w_witptT6Ts?si=F3r0VvpAIWytZSy-)."
   ]
  },
  {
   "cell_type": "markdown",
   "metadata": {
    "slideshow": {
     "slide_type": "slide"
    }
   },
   "source": [
    "## Summary, next time"
   ]
  },
  {
   "cell_type": "markdown",
   "metadata": {
    "slideshow": {
     "slide_type": "slide"
    }
   },
   "source": [
    "### Summary\n",
    "\n",
    "- Lists and arrays are used to store **sequences**.\n",
    "    - Arrays are faster and more convenient for numerical operations.\n",
    "    - Arrays make it easy to perform arithmetic operations on all elements of an array and to perform element-wise operations on multiple arrays.\n",
    "     - Access elements by position, starting at position 0.\n",
    "- Ranges are arrays of equally-spaced numbers. We create ranges with the function `np.arange`."
   ]
  },
  {
   "cell_type": "markdown",
   "metadata": {
    "slideshow": {
     "slide_type": "slide"
    }
   },
   "source": [
    "### Next time\n",
    "\n",
    "We'll see how to use Python to work with real-world tabular data (data you might otherwise work with in a spreadsheet). This is where it gets fun!"
   ]
  }
 ],
 "metadata": {
  "kernelspec": {
   "display_name": "Python 3 (ipykernel)",
   "language": "python",
   "name": "python3"
  },
  "language_info": {
   "codemirror_mode": {
    "name": "ipython",
    "version": 3
   },
   "file_extension": ".py",
   "mimetype": "text/x-python",
   "name": "python",
   "nbconvert_exporter": "python",
   "pygments_lexer": "ipython3",
   "version": "3.12.4"
  },
  "livereveal": {
   "scroll": true,
   "transition": "none"
  },
  "rise": {
   "enable_chalkboard": true
  }
 },
 "nbformat": 4,
 "nbformat_minor": 4
}
