{
 "cells": [
  {
   "cell_type": "markdown",
   "metadata": {},
   "source": [
    "## dist folding"
   ]
  },
  {
   "cell_type": "code",
   "execution_count": null,
   "metadata": {
    "slideshow": {
     "slide_type": "skip"
    }
   },
   "outputs": [],
   "source": [
    "# Set up packages for lecture. Don't worry about understanding this code,\n",
    "# but make sure to run it if you're following along.\n",
    "import numpy as np\n",
    "import babypandas as bpd\n",
    "import pandas as pd\n",
    "from matplotlib_inline.backend_inline import set_matplotlib_formats\n",
    "import matplotlib.pyplot as plt\n",
    "set_matplotlib_formats(\"svg\")\n",
    "plt.style.use('ggplot')\n",
    "\n",
    "np.set_printoptions(threshold=20, precision=2, suppress=True)\n",
    "pd.set_option(\"display.max_rows\", 7)\n",
    "pd.set_option(\"display.max_columns\", 8)\n",
    "pd.set_option(\"display.precision\", 2)"
   ]
  },
  {
   "cell_type": "code",
   "execution_count": null,
   "metadata": {
    "scrolled": false
   },
   "outputs": [],
   "source": [
    "results = np.array([])\n",
    "for i in np.arange(10000):\n",
    "    result = np.random.multinomial(400, [0.5, 0.5])[0]\n",
    "    results = np.append(results, result)\n",
    "\n",
    "\n",
    "ax = bpd.DataFrame().assign(results=results).plot(kind='hist', bins=np.arange(160, 240, 4), \n",
    "                                             density=True, figsize=(10, 5))\n",
    "for bar in ax.containers[0]:\n",
    "    # get x midpoint of bar\n",
    "    x = bar.get_x() + 0.5 * bar.get_width()\n",
    "\n",
    "    # set bar color based on x\n",
    "    if x < 180 or x > 220:\n",
    "        bar.set_color('#796fb3')\n",
    "        \n",
    "plt.xticks([])\n",
    "plt.yticks([])\n",
    "plt.ylabel('')\n",
    "plt.grid('')\n",
    "plt.ylim([0, 0.045])\n",
    "plt.legend('')\n",
    "plt.annotate('likely unfair', (160, 0.007), size=16, color='#796fb3', weight='bold')\n",
    "plt.annotate('likely fair', (194, 0.042), size=16, color='#e24a33', weight='bold')\n",
    "plt.annotate('likely unfair', (222, 0.007), size=16, color='#796fb3', weight='bold')\n",
    "plt.savefig('../../../../../two-tailed.png', bbox_inches='tight', dpi=300)"
   ]
  },
  {
   "cell_type": "code",
   "execution_count": null,
   "metadata": {},
   "outputs": [],
   "source": [
    "def num_heads_from_200(arr):\n",
    "    return abs(arr[0] - 200)\n",
    "\n",
    "\n",
    "results = np.array([])\n",
    "for i in np.arange(10000):\n",
    "    result = num_heads_from_200(np.random.multinomial(400, [0.5, 0.5]))\n",
    "    results = np.append(results, result)\n",
    "\n",
    "\n",
    "ax = bpd.DataFrame().assign(results=results).plot(kind='hist', bins=np.arange(0, 60, 4), \n",
    "                                             density=True, figsize=(10, 5))\n",
    "for bar in ax.containers[0]:\n",
    "    # get x midpoint of bar\n",
    "    x = bar.get_x() + 0.5 * bar.get_width()\n",
    "\n",
    "    # set bar color based on x\n",
    "    if x >= 20:\n",
    "        bar.set_color('#796fb3')\n",
    "        \n",
    "plt.xticks([])\n",
    "plt.yticks([])\n",
    "plt.ylabel('')\n",
    "plt.legend('')\n",
    "plt.grid('')\n",
    "plt.annotate('likely fair', (12, 0.055), size=16, color='#e24a33', weight='bold')\n",
    "plt.annotate('likely unfair', (25, 0.01), size=16, color='#796fb3', weight='bold')\n",
    ";\n",
    "plt.savefig('../../../../../one-tailed.png', bbox_inches='tight', dpi=300)\n",
    ";"
   ]
  }
 ],
 "metadata": {
  "celltoolbar": "Slideshow",
  "kernelspec": {
   "display_name": "Python 3 (ipykernel)",
   "language": "python",
   "name": "python3"
  },
  "language_info": {
   "codemirror_mode": {
    "name": "ipython",
    "version": 3
   },
   "file_extension": ".py",
   "mimetype": "text/x-python",
   "name": "python",
   "nbconvert_exporter": "python",
   "pygments_lexer": "ipython3",
   "version": "3.9.5"
  },
  "livereveal": {
   "scroll": true,
   "transition": "none"
  },
  "rise": {
   "enable_chalkboard": true
  }
 },
 "nbformat": 4,
 "nbformat_minor": 2
}
