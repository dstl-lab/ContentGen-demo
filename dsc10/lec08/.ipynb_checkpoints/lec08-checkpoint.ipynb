{
 "cells": [
  {
   "cell_type": "code",
   "execution_count": null,
   "metadata": {
    "slideshow": {
     "slide_type": "skip"
    }
   },
   "outputs": [],
   "source": [
    "# Run this cell to set up packages for lecture.\n",
    "from lec08_imports import *"
   ]
  },
  {
   "cell_type": "markdown",
   "metadata": {
    "slideshow": {
     "slide_type": "slide"
    }
   },
   "source": [
    "# Lecture 8 – Functions and Applying\n",
    "\n",
    "## DSC 10, Winter 2025"
   ]
  },
  {
   "cell_type": "markdown",
   "metadata": {
    "slideshow": {
     "slide_type": "slide"
    }
   },
   "source": [
    "### Agenda\n",
    "\n",
    "- Functions.\n",
    "- Applying functions to DataFrames.\n",
    "    - Example: Student names.\n",
    "\n",
    "***Reminder:*** Use the [DSC 10 Reference Sheet](https://dsc-courses.github.io/bpd-reference/docs/documentation/intro/)."
   ]
  },
  {
   "cell_type": "markdown",
   "metadata": {
    "slideshow": {
     "slide_type": "slide"
    }
   },
   "source": [
    "## Functions"
   ]
  },
  {
   "cell_type": "markdown",
   "metadata": {
    "slideshow": {
     "slide_type": "slide"
    }
   },
   "source": [
    "### Defining functions\n",
    "* We've learned how to do quite a bit in Python:\n",
    "    * Manipulate arrays, Series, and DataFrames.\n",
    "    * Perform operations on strings.\n",
    "    * Create visualizations.\n",
    "* But so far, we've been restricted to using existing functions (e.g. `max`, `np.sqrt`, `len`) and methods (e.g. `.groupby`, `.assign`, `.plot`). "
   ]
  },
  {
   "cell_type": "markdown",
   "metadata": {
    "slideshow": {
     "slide_type": "slide"
    }
   },
   "source": [
    "### Motivation\n",
    "\n",
    "- In Homework 1, you made an array containing all the multiples of 10, in ascending order, that appear on the multiplication table below. \n",
    "<center>\n",
    "    <br>\n",
    "    <img src=images/mult.jpg width=400>\n",
    "</center>"
   ]
  },
  {
   "cell_type": "code",
   "execution_count": null,
   "metadata": {},
   "outputs": [],
   "source": [
    "multiples_of_10 = np.arange(10, 130, 10)\n",
    "multiples_of_10"
   ]
  },
  {
   "cell_type": "markdown",
   "metadata": {
    "slideshow": {
     "slide_type": "fragment"
    }
   },
   "source": [
    "- **Question**: How would you make an array containing all the multiples of 8, in increasing order, that appear on the multiplication table?"
   ]
  },
  {
   "cell_type": "code",
   "execution_count": null,
   "metadata": {},
   "outputs": [],
   "source": [
    "multiples_of_8 = np.arange(8, 13*8, 8)\n",
    "multiples_of_8"
   ]
  },
  {
   "cell_type": "markdown",
   "metadata": {
    "slideshow": {
     "slide_type": "slide"
    }
   },
   "source": [
    "### More generally\n",
    "\n",
    "What if we want to find the multiples of some other number, `k`? We can copy-paste and change some numbers, but that is **prone to error.**"
   ]
  },
  {
   "cell_type": "code",
   "execution_count": null,
   "metadata": {},
   "outputs": [],
   "source": [
    "multiples_of_5 = ...\n",
    "multiples_of_5"
   ]
  },
  {
   "cell_type": "markdown",
   "metadata": {
    "slideshow": {
     "slide_type": "fragment"
    }
   },
   "source": [
    "It turns out that we can **define** our own \"multiples\" **function** just once, and re-use it many times for different values of `k`. 🔁"
   ]
  },
  {
   "cell_type": "code",
   "execution_count": null,
   "metadata": {},
   "outputs": [],
   "source": [
    "def multiples(k):\n",
    "    '''This function returns the \n",
    "    first twelve multiples of k.'''\n",
    "    return np.arange(k, 13*k, k)"
   ]
  },
  {
   "cell_type": "code",
   "execution_count": null,
   "metadata": {
    "scrolled": true
   },
   "outputs": [],
   "source": [
    "multiples(8)"
   ]
  },
  {
   "cell_type": "code",
   "execution_count": null,
   "metadata": {},
   "outputs": [],
   "source": [
    "multiples(5)"
   ]
  },
  {
   "cell_type": "markdown",
   "metadata": {
    "slideshow": {
     "slide_type": "fragment"
    }
   },
   "source": [
    "Note that we only had to specify how to calculate multiples a single time!"
   ]
  },
  {
   "cell_type": "markdown",
   "metadata": {
    "slideshow": {
     "slide_type": "slide"
    }
   },
   "source": [
    "### Functions\n",
    "\n",
    "Functions are a way to divide our code into small subparts to prevent us from writing repetitive code. Each time we **define** our own function in Python, we will use the following pattern."
   ]
  },
  {
   "cell_type": "code",
   "execution_count": null,
   "metadata": {},
   "outputs": [],
   "source": [
    "show_def()"
   ]
  },
  {
   "cell_type": "markdown",
   "metadata": {
    "slideshow": {
     "slide_type": "slide"
    }
   },
   "source": [
    "### Functions are \"recipes\"\n",
    "\n",
    "- Functions take in inputs, known as **arguments**, do something, and produce some outputs.\n",
    "- The beauty of functions is that **you don't need to know how they are implemented in order to use them!**\n",
    "    - For instance, you've been using the function `bpd.read_csv` without knowing how it works.\n",
    "    - This is the premise of the idea of **abstraction** in computer science – you'll hear a lot about this if you take DSC 20."
   ]
  },
  {
   "cell_type": "code",
   "execution_count": null,
   "metadata": {},
   "outputs": [],
   "source": [
    "multiples(7)"
   ]
  },
  {
   "cell_type": "code",
   "execution_count": null,
   "metadata": {},
   "outputs": [],
   "source": [
    "multiples(-2)"
   ]
  },
  {
   "cell_type": "markdown",
   "metadata": {
    "slideshow": {
     "slide_type": "slide"
    }
   },
   "source": [
    "### Parameters and arguments\n",
    "\n",
    "`triple` has one **parameter**, `x`."
   ]
  },
  {
   "cell_type": "code",
   "execution_count": null,
   "metadata": {},
   "outputs": [],
   "source": [
    "def triple(x):\n",
    "    return x * 3"
   ]
  },
  {
   "cell_type": "markdown",
   "metadata": {
    "slideshow": {
     "slide_type": "fragment"
    }
   },
   "source": [
    "When we call `triple` with the **argument** 5, within the body of `triple`, `x` means 5."
   ]
  },
  {
   "cell_type": "code",
   "execution_count": null,
   "metadata": {},
   "outputs": [],
   "source": [
    "triple(5)"
   ]
  },
  {
   "cell_type": "markdown",
   "metadata": {
    "slideshow": {
     "slide_type": "fragment"
    }
   },
   "source": [
    "We can change the argument we call `triple` with – we can even call it with strings!"
   ]
  },
  {
   "cell_type": "code",
   "execution_count": null,
   "metadata": {},
   "outputs": [],
   "source": [
    "triple(7 + 8)"
   ]
  },
  {
   "cell_type": "code",
   "execution_count": null,
   "metadata": {},
   "outputs": [],
   "source": [
    "triple('triton')"
   ]
  },
  {
   "cell_type": "markdown",
   "metadata": {
    "slideshow": {
     "slide_type": "slide"
    }
   },
   "source": [
    "### Scope 🩺\n",
    "\n",
    "The names you choose for a function’s parameters are only known to that function (known as **local scope**). The rest of your notebook is unaffected by parameter names."
   ]
  },
  {
   "cell_type": "code",
   "execution_count": null,
   "metadata": {},
   "outputs": [],
   "source": [
    "def triple(x):\n",
    "    return x * 3"
   ]
  },
  {
   "cell_type": "code",
   "execution_count": null,
   "metadata": {},
   "outputs": [],
   "source": [
    "triple(7)"
   ]
  },
  {
   "cell_type": "markdown",
   "metadata": {
    "slideshow": {
     "slide_type": "fragment"
    }
   },
   "source": [
    "Since we haven't defined an `x` _outside_ of the body of `triple`, our notebook doesn't know what `x` means."
   ]
  },
  {
   "cell_type": "code",
   "execution_count": null,
   "metadata": {
    "scrolled": false
   },
   "outputs": [],
   "source": [
    "x"
   ]
  },
  {
   "cell_type": "markdown",
   "metadata": {
    "slideshow": {
     "slide_type": "fragment"
    }
   },
   "source": [
    "We can define an `x` outside of the body of `triple`, but that doesn't change how `triple` works."
   ]
  },
  {
   "cell_type": "code",
   "execution_count": null,
   "metadata": {},
   "outputs": [],
   "source": [
    "x = 15"
   ]
  },
  {
   "cell_type": "code",
   "execution_count": null,
   "metadata": {},
   "outputs": [],
   "source": [
    "# When triple(12) is called, you can pretend\n",
    "# there's an invisible line inside the body of x\n",
    "# that says x = 12.\n",
    "# The x = 15 above is ignored.\n",
    "triple(12)"
   ]
  },
  {
   "cell_type": "markdown",
   "metadata": {
    "slideshow": {
     "slide_type": "slide"
    }
   },
   "source": [
    "### Functions can take 0 or more arguments\n",
    "\n",
    "Functions can take any number of arguments. "
   ]
  },
  {
   "cell_type": "markdown",
   "metadata": {
    "slideshow": {
     "slide_type": "fragment"
    }
   },
   "source": [
    "`greeting` takes no arguments."
   ]
  },
  {
   "cell_type": "code",
   "execution_count": null,
   "metadata": {
    "slideshow": {
     "slide_type": "-"
    }
   },
   "outputs": [],
   "source": [
    "def greeting():\n",
    "    return 'Hi! 👋'"
   ]
  },
  {
   "cell_type": "code",
   "execution_count": null,
   "metadata": {},
   "outputs": [],
   "source": [
    "greeting()"
   ]
  },
  {
   "cell_type": "markdown",
   "metadata": {
    "slideshow": {
     "slide_type": "fragment"
    }
   },
   "source": [
    "`custom_multiples` takes two arguments!"
   ]
  },
  {
   "cell_type": "code",
   "execution_count": null,
   "metadata": {},
   "outputs": [],
   "source": [
    "def custom_multiples(k, how_many):\n",
    "    '''This function returns the \n",
    "    first how_many multiples of k.'''\n",
    "    return np.arange(k, (how_many + 1)*k, k)"
   ]
  },
  {
   "cell_type": "code",
   "execution_count": null,
   "metadata": {},
   "outputs": [],
   "source": [
    "custom_multiples(10, 7)"
   ]
  },
  {
   "cell_type": "code",
   "execution_count": null,
   "metadata": {},
   "outputs": [],
   "source": [
    "custom_multiples(2, 100)"
   ]
  },
  {
   "cell_type": "markdown",
   "metadata": {
    "slideshow": {
     "slide_type": "slide"
    }
   },
   "source": [
    "### Functions don't run until you call them!\n",
    "\n",
    "The body of a function is not run until you use (**call**) the function.\n",
    "\n",
    "Here, we can define `where_is_the_error` without seeing an error message. "
   ]
  },
  {
   "cell_type": "code",
   "execution_count": null,
   "metadata": {},
   "outputs": [],
   "source": [
    "def where_is_the_error(something):\n",
    "    '''A function to illustrate that errors don't occur \n",
    "    until functions are executed (called).'''\n",
    "    return (1 / 0) + something"
   ]
  },
  {
   "cell_type": "markdown",
   "metadata": {
    "slideshow": {
     "slide_type": "fragment"
    }
   },
   "source": [
    "It is only when we **call** `where_is_the_error` that Python gives us an error message."
   ]
  },
  {
   "cell_type": "code",
   "execution_count": null,
   "metadata": {
    "tags": [
     "raises-exception"
    ]
   },
   "outputs": [],
   "source": [
    "where_is_the_error(5)"
   ]
  },
  {
   "cell_type": "markdown",
   "metadata": {
    "slideshow": {
     "slide_type": "slide"
    }
   },
   "source": [
    "### Example: `first_name`\n",
    "\n",
    "Let's create a function called `first_name` that takes in someone's full name and returns their first name. Example behavior is shown below.\n",
    "```py\n",
    ">>> first_name('Pradeep Khosla')\n",
    "'Pradeep'\n",
    "```\n",
    "*Hint*: Use the string method `.split`."
   ]
  },
  {
   "cell_type": "markdown",
   "metadata": {
    "slideshow": {
     "slide_type": "fragment"
    }
   },
   "source": [
    "General strategy for writing functions: \n",
    "1. First, try and get the behavior to work on a single example. \n",
    "2. Then, encapsulate that behavior inside a function."
   ]
  },
  {
   "cell_type": "code",
   "execution_count": null,
   "metadata": {},
   "outputs": [],
   "source": [
    "'Pradeep Khosla'.split(' ')[0]"
   ]
  },
  {
   "cell_type": "code",
   "execution_count": null,
   "metadata": {},
   "outputs": [],
   "source": [
    "def first_name(full_name):\n",
    "    '''Returns the first name given a full name.'''\n",
    "    return full_name.split(' ')[0]"
   ]
  },
  {
   "cell_type": "code",
   "execution_count": null,
   "metadata": {},
   "outputs": [],
   "source": [
    "first_name('Pradeep Khosla')"
   ]
  },
  {
   "cell_type": "code",
   "execution_count": null,
   "metadata": {},
   "outputs": [],
   "source": [
    "# What if there are three names?\n",
    "first_name('Chancellor Pradeep Khosla')"
   ]
  },
  {
   "cell_type": "markdown",
   "metadata": {
    "slideshow": {
     "slide_type": "slide"
    }
   },
   "source": [
    "### Returning\n",
    "\n",
    "- The `return` keyword specifies what the output of your function should be, i.e. what a call to your function will evaluate to.\n",
    "- Most functions we write will use `return`, but using `return` is not strictly required.\n",
    "    - **If you want to be able to save the output of your function to a variable, you must use `return`!**\n",
    "- Be careful: `print` and `return` work differently!"
   ]
  },
  {
   "cell_type": "code",
   "execution_count": null,
   "metadata": {},
   "outputs": [],
   "source": [
    "def pythagorean(a, b):\n",
    "    '''Computes the hypotenuse length of a right triangle with legs a and b.'''\n",
    "    c = (a ** 2 + b ** 2) ** 0.5\n",
    "    print(c)"
   ]
  },
  {
   "cell_type": "code",
   "execution_count": null,
   "metadata": {},
   "outputs": [],
   "source": [
    "x = pythagorean(3, 4)"
   ]
  },
  {
   "cell_type": "code",
   "execution_count": null,
   "metadata": {},
   "outputs": [],
   "source": [
    "# No output – why?\n",
    "x"
   ]
  },
  {
   "cell_type": "code",
   "execution_count": null,
   "metadata": {
    "tags": [
     "raises-exception"
    ]
   },
   "outputs": [],
   "source": [
    "# Errors – why?\n",
    "x + 10"
   ]
  },
  {
   "cell_type": "code",
   "execution_count": null,
   "metadata": {
    "slideshow": {
     "slide_type": "slide"
    }
   },
   "outputs": [],
   "source": [
    "def better_pythagorean(a, b):\n",
    "    '''Computes the hypotenuse length of a right triangle with legs a and b, \n",
    "       and actually returns the result.\n",
    "    '''\n",
    "    c = (a ** 2 + b ** 2) ** 0.5\n",
    "    return c"
   ]
  },
  {
   "cell_type": "code",
   "execution_count": null,
   "metadata": {},
   "outputs": [],
   "source": [
    "x = better_pythagorean(3, 4)\n",
    "x"
   ]
  },
  {
   "cell_type": "code",
   "execution_count": null,
   "metadata": {},
   "outputs": [],
   "source": [
    "x + 10"
   ]
  },
  {
   "cell_type": "markdown",
   "metadata": {
    "slideshow": {
     "slide_type": "slide"
    }
   },
   "source": [
    "### Returning\n",
    "Once a function executes a `return` statement, it stops running."
   ]
  },
  {
   "cell_type": "code",
   "execution_count": null,
   "metadata": {},
   "outputs": [],
   "source": [
    "def motivational(quote):\n",
    "    return 0\n",
    "    print(\"Here's a motivational quote:\", quote)"
   ]
  },
  {
   "cell_type": "code",
   "execution_count": null,
   "metadata": {},
   "outputs": [],
   "source": [
    "motivational('Fall seven times and stand up eight.')"
   ]
  },
  {
   "cell_type": "markdown",
   "metadata": {
    "slideshow": {
     "slide_type": "slide"
    }
   },
   "source": [
    "## Applying functions to DataFrames"
   ]
  },
  {
   "cell_type": "markdown",
   "metadata": {
    "slideshow": {
     "slide_type": "slide"
    }
   },
   "source": [
    "### DSC 10 student data\n",
    "\n",
    "The DataFrame `roster` contains the names and lecture sections of all students enrolled in DSC 10 this quarter. The first names are real, while the last names have been anonymized for privacy."
   ]
  },
  {
   "cell_type": "code",
   "execution_count": null,
   "metadata": {
    "scrolled": false
   },
   "outputs": [],
   "source": [
    "roster = bpd.read_csv('data/roster-anon.csv')\n",
    "roster"
   ]
  },
  {
   "cell_type": "markdown",
   "metadata": {
    "slideshow": {
     "slide_type": "slide"
    }
   },
   "source": [
    "### Example: Common first names\n",
    "\n",
    "What is the most common first name among DSC 10 students? (Any guesses?)"
   ]
  },
  {
   "cell_type": "code",
   "execution_count": null,
   "metadata": {},
   "outputs": [],
   "source": [
    "roster"
   ]
  },
  {
   "cell_type": "markdown",
   "metadata": {
    "slideshow": {
     "slide_type": "fragment"
    }
   },
   "source": [
    "- **Problem**: We can't answer that right now, since we don't have a column with first names. If we did, we could group by it."
   ]
  },
  {
   "cell_type": "markdown",
   "metadata": {
    "slideshow": {
     "slide_type": "fragment"
    }
   },
   "source": [
    "- **Solution**: Use our function that extracts first names on _every_ element of the `'name'` column."
   ]
  },
  {
   "cell_type": "markdown",
   "metadata": {
    "slideshow": {
     "slide_type": "slide"
    }
   },
   "source": [
    "### Using our `first_name` function\n",
    "\n",
    "Somehow, we need to call `first_name` on every student's `'name'`."
   ]
  },
  {
   "cell_type": "code",
   "execution_count": null,
   "metadata": {
    "scrolled": false
   },
   "outputs": [],
   "source": [
    "roster"
   ]
  },
  {
   "cell_type": "code",
   "execution_count": null,
   "metadata": {
    "scrolled": true
   },
   "outputs": [],
   "source": [
    "roster.get('name').iloc[0]"
   ]
  },
  {
   "cell_type": "code",
   "execution_count": null,
   "metadata": {},
   "outputs": [],
   "source": [
    "first_name(roster.get('name').iloc[0])"
   ]
  },
  {
   "cell_type": "code",
   "execution_count": null,
   "metadata": {},
   "outputs": [],
   "source": [
    "first_name(roster.get('name').iloc[1])"
   ]
  },
  {
   "cell_type": "markdown",
   "metadata": {},
   "source": [
    "Ideally, there's a better solution than doing this hundreds of times..."
   ]
  },
  {
   "cell_type": "markdown",
   "metadata": {
    "slideshow": {
     "slide_type": "slide"
    }
   },
   "source": [
    "### `.apply`"
   ]
  },
  {
   "cell_type": "markdown",
   "metadata": {
    "slideshow": {
     "slide_type": "fragment"
    }
   },
   "source": [
    "- To **apply** the function `func_name` to every element of column `'col'` in DataFrame `df`, use\n",
    "\n",
    "<center>\n",
    "    <code>df.get('col').apply(func_name)</code>\n",
    "</center>"
   ]
  },
  {
   "cell_type": "markdown",
   "metadata": {
    "slideshow": {
     "slide_type": "fragment"
    }
   },
   "source": [
    "- The `.apply` method is a **Series** method.\n",
    "    - **Important**: We use `.apply` on Series, **not** DataFrames.\n",
    "    - The output of `.apply` is also a Series."
   ]
  },
  {
   "cell_type": "markdown",
   "metadata": {
    "slideshow": {
     "slide_type": "fragment"
    }
   },
   "source": [
    "- Pass _just the name_ of the function – don't call it!\n",
    "    - Good ✅: `.apply(first_name)`.\n",
    "    - Bad ❌: `.apply(first_name())`."
   ]
  },
  {
   "cell_type": "code",
   "execution_count": null,
   "metadata": {},
   "outputs": [],
   "source": [
    "roster.get('name')"
   ]
  },
  {
   "cell_type": "code",
   "execution_count": null,
   "metadata": {
    "scrolled": true,
    "slideshow": {
     "slide_type": "-"
    }
   },
   "outputs": [],
   "source": [
    "roster.get('name').apply(first_name)"
   ]
  },
  {
   "cell_type": "markdown",
   "metadata": {
    "slideshow": {
     "slide_type": "slide"
    }
   },
   "source": [
    "### Example: Common first names"
   ]
  },
  {
   "cell_type": "code",
   "execution_count": null,
   "metadata": {},
   "outputs": [],
   "source": [
    "roster = roster.assign(\n",
    "    first=roster.get('name').apply(first_name)\n",
    ")\n",
    "roster"
   ]
  },
  {
   "cell_type": "markdown",
   "metadata": {
    "slideshow": {
     "slide_type": "fragment"
    }
   },
   "source": [
    "Now that we have a column containing first names, we can find the **distribution** of first names."
   ]
  },
  {
   "cell_type": "code",
   "execution_count": null,
   "metadata": {
    "scrolled": true
   },
   "outputs": [],
   "source": [
    "name_counts = (\n",
    "    roster\n",
    "    .groupby('first')\n",
    "    .count()\n",
    "    .sort_values('name', ascending=False)\n",
    "    .get(['name'])\n",
    ")\n",
    "name_counts"
   ]
  },
  {
   "cell_type": "markdown",
   "metadata": {
    "slideshow": {
     "slide_type": "slide"
    }
   },
   "source": [
    "### Activity\n",
    "\n",
    "Below:\n",
    "- Create a **bar chart** showing the number of students with each first name, but only include first names shared by at least two students.\n",
    "- Determine the **proportion** of students in DSC 10 who have a first name that is shared by at least two students.\n",
    "\n",
    "*Hint*: Start by defining a DataFrame with only the names in `name_counts` that appeared at least twice. You can use this DataFrame to answer both questions.\n",
    "\n",
    "<br>\n",
    "\n",
    "<details>\n",
    "<summary>✅ Click <b>here</b> to see the solutions <b>after</b> you've tried it yourself.</summary>\n",
    "    \n",
    "<pre>\n",
    "\n",
    "shared_names = name_counts[name_counts.get('name') >= 2]\n",
    "\n",
    "# Bar chart.\n",
    "shared_names.sort_values('name').plot(kind='barh', y='name');\n",
    "\n",
    "# Proportion = # students with a shared name / total # of students.\n",
    "shared_names.get('name').sum() / roster.shape[0]\n",
    "\n",
    "</pre>\n",
    "    \n",
    "</details>"
   ]
  },
  {
   "cell_type": "code",
   "execution_count": null,
   "metadata": {},
   "outputs": [],
   "source": [
    "..."
   ]
  },
  {
   "cell_type": "code",
   "execution_count": null,
   "metadata": {},
   "outputs": [],
   "source": [
    "..."
   ]
  },
  {
   "cell_type": "markdown",
   "metadata": {
    "slideshow": {
     "slide_type": "slide"
    }
   },
   "source": [
    "### `.apply` works with built-in functions, too!"
   ]
  },
  {
   "cell_type": "code",
   "execution_count": null,
   "metadata": {},
   "outputs": [],
   "source": [
    "name_counts.get('name')"
   ]
  },
  {
   "cell_type": "code",
   "execution_count": null,
   "metadata": {},
   "outputs": [],
   "source": [
    "# Not necessarily meaningful, but doable.\n",
    "name_counts.get('name').apply(np.log)"
   ]
  },
  {
   "cell_type": "markdown",
   "metadata": {
    "slideshow": {
     "slide_type": "slide"
    }
   },
   "source": [
    "### Aside: Resetting the index\n",
    "\n",
    "In `name_counts`, first names are stored in the index, which is **not** a Series. This means we can't use `.apply` on it."
   ]
  },
  {
   "cell_type": "code",
   "execution_count": null,
   "metadata": {},
   "outputs": [],
   "source": [
    "name_counts.index"
   ]
  },
  {
   "cell_type": "code",
   "execution_count": null,
   "metadata": {},
   "outputs": [],
   "source": [
    "name_counts.index.apply(max)"
   ]
  },
  {
   "cell_type": "markdown",
   "metadata": {
    "slideshow": {
     "slide_type": "fragment"
    }
   },
   "source": [
    "To help, we can use `.reset_index()` to turn the index of a DataFrame into a column, and to reset the index back to the default of 0, 1, 2, 3, and so on."
   ]
  },
  {
   "cell_type": "code",
   "execution_count": null,
   "metadata": {
    "scrolled": true
   },
   "outputs": [],
   "source": [
    "# What is the max of an individual string?\n",
    "name_counts.reset_index().get('first').apply(max)"
   ]
  },
  {
   "cell_type": "markdown",
   "metadata": {
    "slideshow": {
     "slide_type": "slide"
    }
   },
   "source": [
    "### Example: Shared first names and sections\n",
    "\n",
    "- Suppose you're one of the $20\\% of students in DSC 10 who has a first name that is shared with at least one other student.\n",
    "- Let's try and determine whether someone **in your lecture section** shares the same first name as you.\n",
    "    - For example, maybe `'Jason Eglntp'` wants to see if there's another `'Jason'` in their section. "
   ]
  },
  {
   "cell_type": "markdown",
   "metadata": {
    "slideshow": {
     "slide_type": "fragment"
    }
   },
   "source": [
    "Strategy:\n",
    "1. Which section is `'Jason Eglntp'` in?\n",
    "2. How many people in that section have a first name of `'Jason'`?"
   ]
  },
  {
   "cell_type": "code",
   "execution_count": null,
   "metadata": {},
   "outputs": [],
   "source": [
    "roster"
   ]
  },
  {
   "cell_type": "code",
   "execution_count": null,
   "metadata": {},
   "outputs": [],
   "source": [
    "which_section = roster[roster.get('name') == 'Jason Eglntp'].get('section').iloc[0]\n",
    "which_section"
   ]
  },
  {
   "cell_type": "code",
   "execution_count": null,
   "metadata": {},
   "outputs": [],
   "source": [
    "first_cond = roster.get('first') == 'Jason' # A Boolean Series!\n",
    "section_cond = roster.get('section') == which_section # A Boolean Series!\n",
    "how_many = roster[first_cond & section_cond].shape[0]\n",
    "how_many"
   ]
  },
  {
   "cell_type": "markdown",
   "metadata": {
    "slideshow": {
     "slide_type": "slide"
    }
   },
   "source": [
    "### Another function: `shared_first_and_section`\n",
    "\n",
    "Let's create a function named `shared_first_and_section`. It will take in the **full name** of a student and return **the number** of students in their section with the same first name and section (including them).\n",
    "\n",
    "*Note*: This is the first function we're writing that involves using a DataFrame within the function – this is fine!"
   ]
  },
  {
   "cell_type": "code",
   "execution_count": null,
   "metadata": {},
   "outputs": [],
   "source": [
    "def shared_first_and_section(name):\n",
    "    # First, find the row corresponding to that full name in roster.\n",
    "    # We're assuming that full names are unique.\n",
    "    row = roster[roster.get('name') == name]\n",
    "    \n",
    "    # Then, get that student's first name and section.\n",
    "    first = row.get('first').iloc[0]\n",
    "    section = row.get('section').iloc[0]\n",
    "    \n",
    "    # Now, find all the students with the same first name and section.\n",
    "    shared_info = roster[(roster.get('first') == first) & (roster.get('section') == section)]\n",
    "    \n",
    "    # Return the number of such students.\n",
    "    return shared_info.shape[0]"
   ]
  },
  {
   "cell_type": "code",
   "execution_count": null,
   "metadata": {},
   "outputs": [],
   "source": [
    "shared_first_and_section('Jason Eglntp')"
   ]
  },
  {
   "cell_type": "markdown",
   "metadata": {},
   "source": [
    "Now, let's add a column to `roster` that contains the values returned by `shared_first_and_section`."
   ]
  },
  {
   "cell_type": "code",
   "execution_count": null,
   "metadata": {
    "scrolled": true
   },
   "outputs": [],
   "source": [
    "roster = roster.assign(shared=roster.get('name').apply(shared_first_and_section))\n",
    "roster"
   ]
  },
  {
   "cell_type": "markdown",
   "metadata": {
    "slideshow": {
     "slide_type": "slide"
    }
   },
   "source": [
    "Let's find all of the students who are in a section with someone that has the same first name as them."
   ]
  },
  {
   "cell_type": "code",
   "execution_count": null,
   "metadata": {
    "scrolled": true
   },
   "outputs": [],
   "source": [
    "roster[(roster.get('shared') >= 2)].sort_values('shared', ascending=False)"
   ]
  },
  {
   "cell_type": "markdown",
   "metadata": {
    "slideshow": {
     "slide_type": "fragment"
    }
   },
   "source": [
    "We can narrow this down to a particular lecture section if we'd like."
   ]
  },
  {
   "cell_type": "code",
   "execution_count": null,
   "metadata": {},
   "outputs": [],
   "source": [
    "one_section_only = (\n",
    "    roster[(roster.get('shared') >= 2) & \n",
    "           (roster.get('section') == '10AM')]\n",
    "    .sort_values('shared', ascending=False)\n",
    ")\n",
    "one_section_only"
   ]
  },
  {
   "cell_type": "markdown",
   "metadata": {},
   "source": [
    "For instance, the above DataFrame preview is telling us that there are 3 Andys in the 10AM section."
   ]
  },
  {
   "cell_type": "code",
   "execution_count": null,
   "metadata": {
    "scrolled": true
   },
   "outputs": [],
   "source": [
    "# All of the names shared by multiple students in the 10AM section.\n",
    "one_section_only.get('first').unique()"
   ]
  },
  {
   "cell_type": "markdown",
   "metadata": {
    "slideshow": {
     "slide_type": "slide"
    }
   },
   "source": [
    "### Sneak peek\n",
    "\n",
    "While the DataFrames on the previous slide contain the info we were looking for, they're not organized very conveniently. For instance, there are three rows containing the fact that there are 3 Andys in the 10AM lecture section. \n",
    "\n",
    "Wouldn't it be great if we could create a DataFrame like the one below? We'll see how next time!"
   ]
  },
  {
   "cell_type": "markdown",
   "metadata": {
    "slideshow": {
     "slide_type": "-"
    }
   },
   "source": [
    "<center><img src=\"images/preview.jpg\" width=25%></center>"
   ]
  },
  {
   "cell_type": "markdown",
   "metadata": {
    "slideshow": {
     "slide_type": "slide"
    }
   },
   "source": [
    "### Activity\n",
    "\n",
    "Find the longest first name in the class that is shared by at least two students in the same section.\n",
    "\n",
    "*Hint*: You'll have to use both `.assign` and `.apply`.\n",
    "\n",
    "<br>\n",
    "\n",
    "<details>\n",
    "<summary>✅ Click <b>here</b> to see the answer <b>after</b> you've tried it yourself.</summary>\n",
    "    \n",
    "<pre>\n",
    "\n",
    "with_len = roster.assign(name_len=roster.get('first').apply(len))\n",
    "with_len[with_len.get('shared') >= 2].sort_values('name_len', ascending=False).get('first').iloc[0]\n",
    "\n",
    "</pre>\n",
    "    \n",
    "</details>"
   ]
  },
  {
   "cell_type": "code",
   "execution_count": null,
   "metadata": {},
   "outputs": [],
   "source": [
    "..."
   ]
  },
  {
   "cell_type": "markdown",
   "metadata": {
    "slideshow": {
     "slide_type": "slide"
    }
   },
   "source": [
    "## Summary, next time"
   ]
  },
  {
   "cell_type": "markdown",
   "metadata": {
    "slideshow": {
     "slide_type": "slide"
    }
   },
   "source": [
    "### Summary\n",
    "\n",
    "- Functions are a way to divide our code into small subparts to prevent us from writing repetitive code.\n",
    "- The `.apply` method allows us to call a function on every single element of a Series, which usually comes from `.get`ting a column of a DataFrame."
   ]
  },
  {
   "cell_type": "markdown",
   "metadata": {
    "slideshow": {
     "slide_type": "slide"
    }
   },
   "source": [
    "### Next time\n",
    "\n",
    "More advanced DataFrame manipulations!"
   ]
  }
 ],
 "metadata": {
  "kernelspec": {
   "display_name": "Python 3 (ipykernel)",
   "language": "python",
   "name": "python3"
  },
  "language_info": {
   "codemirror_mode": {
    "name": "ipython",
    "version": 3
   },
   "file_extension": ".py",
   "mimetype": "text/x-python",
   "name": "python",
   "nbconvert_exporter": "python",
   "pygments_lexer": "ipython3",
   "version": "3.9.5"
  },
  "livereveal": {
   "scroll": true,
   "transition": "none"
  },
  "rise": {
   "enable_chalkboard": true
  }
 },
 "nbformat": 4,
 "nbformat_minor": 2
}
