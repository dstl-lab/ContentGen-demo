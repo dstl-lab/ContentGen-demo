{
 "cells": [
  {
   "cell_type": "code",
   "execution_count": null,
   "metadata": {
    "slideshow": {
     "slide_type": "skip"
    }
   },
   "outputs": [],
   "source": [
    "# Run this cell to set up packages for lecture.\n",
    "from lec09_imports import *"
   ]
  },
  {
   "cell_type": "markdown",
   "metadata": {
    "slideshow": {
     "slide_type": "slide"
    }
   },
   "source": [
    "# Lecture 9 – Grouping on Multiple Columns, Merging\n",
    "\n",
    "## DSC 10, Winter 2025"
   ]
  },
  {
   "cell_type": "markdown",
   "metadata": {
    "slideshow": {
     "slide_type": "slide"
    }
   },
   "source": [
    "### Agenda\n",
    "\n",
    "- Grouping on multiple columns.\n",
    "- Merging."
   ]
  },
  {
   "cell_type": "markdown",
   "metadata": {
    "slideshow": {
     "slide_type": "slide"
    }
   },
   "source": [
    "## Grouping on multiple columns"
   ]
  },
  {
   "cell_type": "markdown",
   "metadata": {
    "slideshow": {
     "slide_type": "slide"
    }
   },
   "source": [
    "### DSC 10 student data"
   ]
  },
  {
   "cell_type": "code",
   "execution_count": null,
   "metadata": {},
   "outputs": [],
   "source": [
    "roster = bpd.read_csv('data/roster-anon.csv')\n",
    "roster"
   ]
  },
  {
   "cell_type": "markdown",
   "metadata": {
    "slideshow": {
     "slide_type": "fragment"
    }
   },
   "source": [
    "Recall, last class, we extracted the first name of each student in the class."
   ]
  },
  {
   "cell_type": "code",
   "execution_count": null,
   "metadata": {},
   "outputs": [],
   "source": [
    "def first_name(full_name):\n",
    "    '''Returns the first name given a full name.'''\n",
    "    return full_name.split(' ')[0]"
   ]
  },
  {
   "cell_type": "code",
   "execution_count": null,
   "metadata": {},
   "outputs": [],
   "source": [
    "roster = roster.assign(\n",
    "    first=roster.get('name').apply(first_name)\n",
    ")\n",
    "roster"
   ]
  },
  {
   "cell_type": "markdown",
   "metadata": {
    "slideshow": {
     "slide_type": "slide"
    }
   },
   "source": [
    "### How many students named Ryan are in each section?\n",
    "\n",
    "We discovered that Ryan and Andrew were tied for the most popular first names overall."
   ]
  },
  {
   "cell_type": "code",
   "execution_count": null,
   "metadata": {},
   "outputs": [],
   "source": [
    "name_counts = (\n",
    "    roster\n",
    "    .groupby('first')\n",
    "    .count()\n",
    "    .sort_values('name', ascending=False)\n",
    "    .get(['name'])\n",
    ")\n",
    "name_counts"
   ]
  },
  {
   "cell_type": "markdown",
   "metadata": {
    "slideshow": {
     "slide_type": "slide"
    }
   },
   "source": [
    "To find the number of `'Ryan'`s in each lecture section, we can query for only the rows corresponding to `'Ryan'`s, and then group by `'section'`."
   ]
  },
  {
   "cell_type": "code",
   "execution_count": null,
   "metadata": {},
   "outputs": [],
   "source": [
    "roster[roster.get('first') == 'Ryan'].groupby('section').count()"
   ]
  },
  {
   "cell_type": "markdown",
   "metadata": {
    "slideshow": {
     "slide_type": "fragment"
    }
   },
   "source": [
    "But what if we want to know the number of `'Vanessa'`s and `'Nathan'`s per section, too?"
   ]
  },
  {
   "cell_type": "code",
   "execution_count": null,
   "metadata": {},
   "outputs": [],
   "source": [
    "roster[roster.get('first') == 'Vanessa'].groupby('section').count()"
   ]
  },
  {
   "cell_type": "code",
   "execution_count": null,
   "metadata": {},
   "outputs": [],
   "source": [
    "roster[roster.get('first') == 'Nathan'].groupby('section').count()"
   ]
  },
  {
   "cell_type": "markdown",
   "metadata": {},
   "source": [
    "Is there a way to do this **for all first names and sections** all at once?"
   ]
  },
  {
   "cell_type": "markdown",
   "metadata": {
    "slideshow": {
     "slide_type": "slide"
    }
   },
   "source": [
    "### How many students with each first name does each lecture section have?"
   ]
  },
  {
   "cell_type": "markdown",
   "metadata": {
    "slideshow": {
     "slide_type": "fragment"
    }
   },
   "source": [
    "- Right now, we can count the number of students with each first name, by grouping `roster` by `'first'`."
   ]
  },
  {
   "cell_type": "code",
   "execution_count": null,
   "metadata": {},
   "outputs": [],
   "source": [
    "# One row per unique first name.\n",
    "roster.groupby('first').count().get(['name'])"
   ]
  },
  {
   "cell_type": "markdown",
   "metadata": {
    "slideshow": {
     "slide_type": "fragment"
    }
   },
   "source": [
    "- We can also count the number of students in each lecture section, by grouping `roster` by `'section'`."
   ]
  },
  {
   "cell_type": "code",
   "execution_count": null,
   "metadata": {},
   "outputs": [],
   "source": [
    "# One row per unique section.\n",
    "roster.groupby('section').count().get(['name'])"
   ]
  },
  {
   "cell_type": "markdown",
   "metadata": {
    "slideshow": {
     "slide_type": "fragment"
    }
   },
   "source": [
    "- However, neither of the above DataFrames give us the number of students **with each first name** **in each section**.\n",
    "    - For instance, neither result tells me the number of `'Ryan'`s in the 9AM section or the number of `'Vanessa'`s in the 10AM section."
   ]
  },
  {
   "cell_type": "markdown",
   "metadata": {
    "slideshow": {
     "slide_type": "fragment"
    }
   },
   "source": [
    "- It would be nice if we could group by both `'first'` **and** `'section'` – and we can!"
   ]
  },
  {
   "cell_type": "markdown",
   "metadata": {
    "slideshow": {
     "slide_type": "slide"
    }
   },
   "source": [
    "### Grouping on multiple columns"
   ]
  },
  {
   "cell_type": "code",
   "execution_count": null,
   "metadata": {
    "slideshow": {
     "slide_type": "-"
    }
   },
   "outputs": [],
   "source": [
    "roster"
   ]
  },
  {
   "cell_type": "markdown",
   "metadata": {
    "slideshow": {
     "slide_type": "fragment"
    }
   },
   "source": [
    "We can pass a **list** of column names to `.groupby`!"
   ]
  },
  {
   "cell_type": "code",
   "execution_count": null,
   "metadata": {},
   "outputs": [],
   "source": [
    "roster.groupby(['section', 'first']).count()"
   ]
  },
  {
   "cell_type": "markdown",
   "metadata": {
    "slideshow": {
     "slide_type": "fragment"
    }
   },
   "source": [
    "The above DataFrame is telling us, for instance, that there is 1 student with the first name `'Zora'` in the 11AM section.\n",
    "\n",
    "It is **not** saying that there is only one `'Zora'` in the course overall. There could be more in the other sections."
   ]
  },
  {
   "cell_type": "markdown",
   "metadata": {
    "slideshow": {
     "slide_type": "slide"
    }
   },
   "source": [
    "### Grouping on multiple columns"
   ]
  },
  {
   "cell_type": "markdown",
   "metadata": {
    "slideshow": {
     "slide_type": "fragment"
    }
   },
   "source": [
    "- To group on multiple columns, pass a **list** of column names to `.groupby`:\n",
    "\n",
    "<br>\n",
    "\n",
    "<center><code>df.groupby(['col_1', 'col_2', ..., 'col_k'])</code></center>\n"
   ]
  },
  {
   "cell_type": "markdown",
   "metadata": {
    "slideshow": {
     "slide_type": "fragment"
    }
   },
   "source": [
    "- Group by `'col_1'` first. **Within each group**, group by `'col_2'`, and so on."
   ]
  },
  {
   "cell_type": "markdown",
   "metadata": {
    "slideshow": {
     "slide_type": "fragment"
    }
   },
   "source": [
    "- **Important: The resulting DataFrame has one row per unique combination of entries in the specified columns.**\n",
    "    - On the previous slide, we had exactly one row for every combination of `'section'` and `'first'`."
   ]
  },
  {
   "cell_type": "markdown",
   "metadata": {
    "slideshow": {
     "slide_type": "fragment"
    }
   },
   "source": [
    "- Formally, when we group on multiple columns, we are creating _subgroups_ – that is, **groups within groups**.\n",
    "    - On the previous slide, we first grouped by `'section'`, and within each section, we grouped by `'first'`."
   ]
  },
  {
   "cell_type": "markdown",
   "metadata": {
    "slideshow": {
     "slide_type": "slide"
    }
   },
   "source": [
    "### Notice the index... 🤔\n",
    "\n",
    "- This is called a \"[MultiIndex](https://pandas.pydata.org/pandas-docs/stable/user_guide/advanced.html)\".\n",
    "    - The DataFrame is indexed by `'section'` **and** `'first'`.\n",
    "- We won't worry about the details of MultiIndexes.\n",
    "- We can use `.reset_index()` to \"flatten\" our DataFrame back to normal."
   ]
  },
  {
   "cell_type": "code",
   "execution_count": null,
   "metadata": {},
   "outputs": [],
   "source": [
    "roster.groupby(['section', 'first']).count().reset_index()"
   ]
  },
  {
   "cell_type": "markdown",
   "metadata": {
    "slideshow": {
     "slide_type": "slide"
    }
   },
   "source": [
    "### Does order matter?"
   ]
  },
  {
   "cell_type": "code",
   "execution_count": null,
   "metadata": {},
   "outputs": [],
   "source": [
    "roster.groupby(['section', 'first']).count().reset_index()"
   ]
  },
  {
   "cell_type": "code",
   "execution_count": null,
   "metadata": {},
   "outputs": [],
   "source": [
    "roster.groupby(['first', 'section']).count().reset_index()"
   ]
  },
  {
   "cell_type": "markdown",
   "metadata": {
    "slideshow": {
     "slide_type": "fragment"
    }
   },
   "source": [
    "**Answer**: Kind of. The order of the rows and columns will be different, but the content will be the same."
   ]
  },
  {
   "cell_type": "markdown",
   "metadata": {
    "slideshow": {
     "slide_type": "slide"
    }
   },
   "source": [
    "### Activity\n",
    "\n",
    "1. Using `counts`, find the lecture section with the most `'Amelia'`s.\n",
    "2. Using `counts`, find the longest first name in the class that is shared by at least two students in the same section.\n",
    "\n",
    "<details>\n",
    "<summary>✅ Click <b>here</b> to see the solutions <b>after</b> you've tried both problems.</summary>\n",
    "    \n",
    "<pre>\n",
    "\n",
    "amelia_counts = counts[counts.get('first') == 'Amelia']\n",
    "amelia_counts.sort_values('name', ascending=False).get('section').iloc[0]\n",
    "\n",
    "with_len = counts.assign(length=counts.get('first').apply(len))\n",
    "with_len[with_len.get('name') >= 2].sort_values('length', ascending=False).get('first').iloc[0]\n",
    "\n",
    "</pre>\n",
    "        \n",
    "</details>"
   ]
  },
  {
   "cell_type": "code",
   "execution_count": null,
   "metadata": {
    "scrolled": true
   },
   "outputs": [],
   "source": [
    "counts = roster.groupby(['section', 'first']).count().reset_index()\n",
    "counts"
   ]
  },
  {
   "cell_type": "code",
   "execution_count": null,
   "metadata": {
    "scrolled": true
   },
   "outputs": [],
   "source": []
  },
  {
   "cell_type": "code",
   "execution_count": null,
   "metadata": {},
   "outputs": [],
   "source": []
  },
  {
   "cell_type": "markdown",
   "metadata": {
    "slideshow": {
     "slide_type": "slide"
    }
   },
   "source": [
    "### Example: Sea temperatures 🌊\n",
    "\n",
    "[This dataset](https://library.ucsd.edu/dc/object/bb4003017c) contains the sea surface temperature in La Jolla, on many days ranging from August 22, 1916 to June 30, 2024."
   ]
  },
  {
   "cell_type": "code",
   "execution_count": null,
   "metadata": {},
   "outputs": [],
   "source": [
    "sea_temp = bpd.read_csv('data/sea_temp.csv')\n",
    "sea_temp"
   ]
  },
  {
   "cell_type": "markdown",
   "metadata": {
    "slideshow": {
     "slide_type": "slide"
    }
   },
   "source": [
    "### Concept Check ✅ – Answer at [cc.dsc10.com](http://cc.dsc10.com) \n",
    "\n",
    "We want to find the single month (e.g. November 1998) with the highest average `'SURFACE_TEMP'`.\n",
    "\n",
    "Which of the following would help us achieve this goal?\n",
    "\n",
    "A. `sea_temp.groupby('SURFACE_TEMP').mean()`\n",
    "\n",
    "B. `sea_temp.groupby('MONTH').mean()`\n",
    "\n",
    "C. `sea_temp.groupby(['YEAR', 'MONTH']).mean()`\n",
    "\n",
    "D. `sea_temp.groupby(['MONTH', 'DAY']).mean()`\n",
    "\n",
    "E. `sea_temp.groupby(['MONTH', 'SURFACE_TEMP']).mean()`"
   ]
  },
  {
   "cell_type": "code",
   "execution_count": null,
   "metadata": {},
   "outputs": [],
   "source": [
    "..."
   ]
  },
  {
   "cell_type": "markdown",
   "metadata": {
    "slideshow": {
     "slide_type": "slide"
    }
   },
   "source": [
    "### Plots of monthly and yearly average surface temperature 📈"
   ]
  },
  {
   "cell_type": "code",
   "execution_count": null,
   "metadata": {},
   "outputs": [],
   "source": [
    "(sea_temp\n",
    " .groupby('MONTH') \n",
    " .mean() \n",
    " .plot(kind='line', y='SURFACE_TEMP')\n",
    ");"
   ]
  },
  {
   "cell_type": "code",
   "execution_count": null,
   "metadata": {},
   "outputs": [],
   "source": [
    "# Why is there a sudden drop at the end? Look at the dates of data collection!\n",
    "(sea_temp\n",
    " .groupby('YEAR') \n",
    " .mean() \n",
    " .plot(kind='line', y='SURFACE_TEMP')\n",
    ");"
   ]
  },
  {
   "cell_type": "markdown",
   "metadata": {
    "slideshow": {
     "slide_type": "slide"
    }
   },
   "source": [
    "### Summary: Grouping on multiple columns\n",
    "\n",
    "- Pass a list of columns to `.groupby` to group on multiple columns. This creates groups within groups.\n",
    "- Use `.reset_index()` after grouping on multiple columns to move the MultiIndex back to the columns."
   ]
  },
  {
   "cell_type": "markdown",
   "metadata": {
    "slideshow": {
     "slide_type": "slide"
    }
   },
   "source": [
    "## Merging 🚙"
   ]
  },
  {
   "cell_type": "code",
   "execution_count": null,
   "metadata": {
    "slideshow": {
     "slide_type": "slide"
    }
   },
   "outputs": [],
   "source": [
    "offer_percentage = bpd.DataFrame().assign(\n",
    "    clothing_type=['Shirt', 'Pants', 'Dress', 'Shorts', 'Shoes'],\n",
    "    offer_percentage=[20, 30, 50, 30, 50]\n",
    ")\n",
    "\n",
    "clothes = bpd.DataFrame().assign(\n",
    "    item=['Dress', 'Shirt', 'Shoes', 'Pants', 'Shoes'],\n",
    "    retail_price=[150, 30, 90, 50, 70]\n",
    ")"
   ]
  },
  {
   "cell_type": "markdown",
   "metadata": {
    "slideshow": {
     "slide_type": "slide"
    }
   },
   "source": [
    "### Example: Clothing Resale 👕"
   ]
  },
  {
   "cell_type": "code",
   "execution_count": null,
   "metadata": {
    "slideshow": {
     "slide_type": "-"
    }
   },
   "outputs": [],
   "source": [
    "# The percentage of retail price that I can earn for reselling my clothes.\n",
    "offer_percentage"
   ]
  },
  {
   "cell_type": "code",
   "execution_count": null,
   "metadata": {},
   "outputs": [],
   "source": [
    "# The items I want to sell and their retail prices.\n",
    "clothes"
   ]
  },
  {
   "cell_type": "markdown",
   "metadata": {
    "slideshow": {
     "slide_type": "fragment"
    }
   },
   "source": [
    "- **Question**: If I sell all of the clothes in my collection, how much will I earn?"
   ]
  },
  {
   "cell_type": "markdown",
   "metadata": {
    "slideshow": {
     "slide_type": "fragment"
    }
   },
   "source": [
    "- **Issue**: The information I need to answer the question is spread across multiple DataFrames."
   ]
  },
  {
   "cell_type": "markdown",
   "metadata": {
    "slideshow": {
     "slide_type": "slide"
    }
   },
   "source": [
    "### If I sell all of the clothes in my collection, how much will I earn?"
   ]
  },
  {
   "cell_type": "code",
   "execution_count": null,
   "metadata": {},
   "outputs": [],
   "source": [
    "clothes_merged = offer_percentage.merge(clothes, left_on='clothing_type', right_on='item')\n",
    "clothes_merged"
   ]
  },
  {
   "cell_type": "markdown",
   "metadata": {
    "slideshow": {
     "slide_type": "slide"
    }
   },
   "source": [
    "### What just happened!? 🤯"
   ]
  },
  {
   "cell_type": "code",
   "execution_count": null,
   "metadata": {},
   "outputs": [],
   "source": [
    "# Click through the presentation that appears.\n",
    "merging_animation()"
   ]
  },
  {
   "cell_type": "markdown",
   "metadata": {
    "slideshow": {
     "slide_type": "slide"
    }
   },
   "source": [
    "### `.merge`\n",
    "\n",
    "To \"merge\" two DataFrames:\n",
    "- Pick a \"left\" and \"right\" DataFrame.\n",
    "- Choose a column from each to \"merge on\".\n",
    "```py\n",
    "left_df.merge(\n",
    "    right_df, \n",
    "    left_on='left_col_name',\n",
    "    right_on='right_col_name'\n",
    ")\n",
    "```\n",
    "- `left_on` and `right_on` should be column names (they don't have to be the same).\n",
    "- The resulting DataFrame contains a single row for every match between the two columns.\n",
    "- Rows in either DataFrame without a match disappear!"
   ]
  },
  {
   "cell_type": "markdown",
   "metadata": {
    "slideshow": {
     "slide_type": "slide"
    }
   },
   "source": [
    "### If I sell all of the clothes in my collection, how much will I earn?"
   ]
  },
  {
   "cell_type": "code",
   "execution_count": null,
   "metadata": {},
   "outputs": [],
   "source": [
    "clothes_merged = offer_percentage.merge(clothes, left_on='clothing_type', right_on='item')\n",
    "clothes_merged"
   ]
  },
  {
   "cell_type": "code",
   "execution_count": null,
   "metadata": {},
   "outputs": [],
   "source": [
    "# If I sell all of the clothes in my collection, how much will I earn?\n",
    "(clothes_merged.get('offer_percentage') / 100 * clothes_merged.get('retail_price')).sum() "
   ]
  },
  {
   "cell_type": "markdown",
   "metadata": {
    "slideshow": {
     "slide_type": "slide"
    }
   },
   "source": [
    "### Does it matter which DataFrame is the left or right DataFrame? 🤔"
   ]
  },
  {
   "cell_type": "code",
   "execution_count": null,
   "metadata": {},
   "outputs": [],
   "source": [
    "offer_percentage.merge(clothes, left_on='clothing_type', right_on='item')"
   ]
  },
  {
   "cell_type": "code",
   "execution_count": null,
   "metadata": {},
   "outputs": [],
   "source": [
    "clothes.merge(offer_percentage, left_on='item', right_on='clothing_type')"
   ]
  },
  {
   "cell_type": "markdown",
   "metadata": {
    "slideshow": {
     "slide_type": "fragment"
    }
   },
   "source": [
    "**Answer**: The order of the rows and columns will be different, but the content will be the same."
   ]
  },
  {
   "cell_type": "markdown",
   "metadata": {
    "slideshow": {
     "slide_type": "slide"
    }
   },
   "source": [
    "### Special cases"
   ]
  },
  {
   "cell_type": "markdown",
   "metadata": {
    "slideshow": {
     "slide_type": "-"
    }
   },
   "source": [
    "#### What if the names of the columns we want to merge on are both the same?\n",
    "\n",
    "Instead of using `left_on='col'` and `right_on='col'`, you can just say `on='col'`."
   ]
  },
  {
   "cell_type": "code",
   "execution_count": null,
   "metadata": {},
   "outputs": [],
   "source": [
    "offer_percentage"
   ]
  },
  {
   "cell_type": "code",
   "execution_count": null,
   "metadata": {},
   "outputs": [],
   "source": [
    "clothes_relabeled = clothes.assign(clothing_type=clothes.get('item')).drop(columns=['item'])\n",
    "clothes_relabeled"
   ]
  },
  {
   "cell_type": "markdown",
   "metadata": {},
   "source": [
    "In this example, the column we want to merge on in both DataFrames is named `'clothing_type'`, so we can just use `on='clothing_type'`."
   ]
  },
  {
   "cell_type": "code",
   "execution_count": null,
   "metadata": {},
   "outputs": [],
   "source": [
    "offer_percentage.merge(clothes_relabeled, on='clothing_type')"
   ]
  },
  {
   "cell_type": "markdown",
   "metadata": {
    "slideshow": {
     "slide_type": "fragment"
    }
   },
   "source": [
    "**Notice**: There's only one column containing the type of clothing now."
   ]
  },
  {
   "cell_type": "markdown",
   "metadata": {
    "slideshow": {
     "slide_type": "slide"
    }
   },
   "source": [
    "#### What if we want to merge using an index instead of a column?\n",
    "\n",
    "Instead of using `left_on` or `right_on`, use `left_index=True` or `right_index=True`."
   ]
  },
  {
   "cell_type": "code",
   "execution_count": null,
   "metadata": {},
   "outputs": [],
   "source": [
    "offers_by_item = offer_percentage.set_index('clothing_type')\n",
    "offers_by_item"
   ]
  },
  {
   "cell_type": "code",
   "execution_count": null,
   "metadata": {},
   "outputs": [],
   "source": [
    "clothes"
   ]
  },
  {
   "cell_type": "markdown",
   "metadata": {
    "slideshow": {
     "slide_type": "fragment"
    }
   },
   "source": [
    "In this example, we want to merge using the index in the left DataFrame (`offers_by_item`) and the `item` column in the right DataFrame (`clothes`)."
   ]
  },
  {
   "cell_type": "code",
   "execution_count": null,
   "metadata": {},
   "outputs": [],
   "source": [
    "offers_by_item.merge(clothes, left_index=True, right_on='item')"
   ]
  },
  {
   "cell_type": "markdown",
   "metadata": {
    "slideshow": {
     "slide_type": "slide"
    }
   },
   "source": [
    "### Concept Check ✅ – Answer at [cc.dsc10.com](http://cc.dsc10.com) \n",
    "\n",
    "How many rows are in `weather.merge(schools, on='city')`?\n",
    "\n",
    "    A. 4    B. 5    C. 6    D. 7    E. 8"
   ]
  },
  {
   "cell_type": "code",
   "execution_count": null,
   "metadata": {},
   "outputs": [],
   "source": [
    "concept_check()"
   ]
  },
  {
   "cell_type": "markdown",
   "metadata": {
    "slideshow": {
     "slide_type": "slide"
    }
   },
   "source": [
    "### Followup activity\n",
    "\n",
    "How many rows are in `weather.merge(schools, on='state')`?"
   ]
  },
  {
   "cell_type": "markdown",
   "metadata": {
    "slideshow": {
     "slide_type": "slide"
    }
   },
   "source": [
    "### More practice!\n",
    "\n",
    "Here are related exam problems to help you practice merging:\n",
    "- [Problem 5 from the Fall 2021 midterm](https://practice.dsc10.com/fa21-midterm/index.html#problem-5).\n",
    "- [Problem 7 from the Fall 2022 midterm](https://practice.dsc10.com/fa22-midterm/index.html#problem-7)."
   ]
  },
  {
   "cell_type": "markdown",
   "metadata": {
    "slideshow": {
     "slide_type": "slide"
    }
   },
   "source": [
    "## Summary, next time"
   ]
  },
  {
   "cell_type": "markdown",
   "metadata": {
    "slideshow": {
     "slide_type": "slide"
    }
   },
   "source": [
    "### Summary\n",
    "\n",
    "- To group on multiple columns, pass a list to `.groupby`.\n",
    "    - The result has one row for every unique combination of elements in the specified columns.\n",
    "- To combine information from multiple DataFrames, use `.merge`.\n",
    "    - When using `.merge`, Python searches for a match between a specified column in each DataFrame and combines the rows with a match.\n",
    "    - If there are no matches, the row disappears!"
   ]
  },
  {
   "cell_type": "markdown",
   "metadata": {
    "slideshow": {
     "slide_type": "slide"
    }
   },
   "source": [
    "### Next time\n",
    "\n",
    "- **`if`-statements**, to execute code only when certain conditions are met.\n",
    "- **`for`-loops**, to repeat code many times.\n",
    "- Both are foundational programming tools. 🛠"
   ]
  }
 ],
 "metadata": {
  "kernelspec": {
   "display_name": "Python 3 (clean)",
   "language": "python",
   "name": "python3_clean"
  },
  "language_info": {
   "codemirror_mode": {
    "name": "ipython",
    "version": 3
   },
   "file_extension": ".py",
   "mimetype": "text/x-python",
   "name": "python",
   "nbconvert_exporter": "python",
   "pygments_lexer": "ipython3",
   "version": "3.9.5"
  },
  "livereveal": {
   "scroll": true,
   "transition": "none"
  },
  "rise": {
   "enable_chalkboard": true
  }
 },
 "nbformat": 4,
 "nbformat_minor": 4
}
